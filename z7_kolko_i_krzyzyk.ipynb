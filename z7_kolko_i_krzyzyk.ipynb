{
 "cells": [
  {
   "cell_type": "markdown",
   "metadata": {},
   "source": [
    "# Kółko i krzyżyk\n",
    "\n",
    "* Podsumowanie ifów, pętli, list i funkcji\n",
    "* my (użytkownik) gramy kółkiem (znak 'o'), a komputer krzyżykiem znak 'x'"
   ]
  },
  {
   "cell_type": "markdown",
   "metadata": {},
   "source": [
    "Plansza będzie listą trzech list"
   ]
  },
  {
   "cell_type": "code",
   "execution_count": 3,
   "metadata": {},
   "outputs": [
    {
     "name": "stdout",
     "output_type": "stream",
     "text": [
      "[['x', ' ', 'o'], ['o', ' ', 'x'], ['x', ' ', 'o']]\n"
     ]
    }
   ],
   "source": [
    "print(plansza)"
   ]
  },
  {
   "cell_type": "markdown",
   "metadata": {},
   "source": [
    "### Zadanie 1\n",
    "Napisać **funkcję** drukującą planszą mniej więcej jak poniżej"
   ]
  },
  {
   "cell_type": "code",
   "execution_count": 4,
   "metadata": {},
   "outputs": [
    {
     "name": "stdout",
     "output_type": "stream",
     "text": [
      " x |   | o \n",
      "-----------\n",
      " o |   | x \n",
      "-----------\n",
      " x |   | o \n"
     ]
    }
   ],
   "source": [
    "print(\" x |   | o \")\n",
    "print(\"-----------\")\n",
    "print(\" o |   | x \")\n",
    "print(\"-----------\")\n",
    "print(\" x |   | o \")"
   ]
  },
  {
   "cell_type": "code",
   "execution_count": 21,
   "metadata": {},
   "outputs": [],
   "source": [
    "def drukuj_plansze(plansza):\n",
    "    for i in range(len(plansza)):\n",
    "        for a in range(len(plansza[i])):\n",
    "            print(plansza[i][a], end=\"\")\n",
    "            if a < len(plansza[i])-1:\n",
    "                print(\" | \", end=\"\")\n",
    "        if i < len(plansza)-1:\n",
    "              print(\"\\n----------\")"
   ]
  },
  {
   "cell_type": "code",
   "execution_count": 22,
   "metadata": {},
   "outputs": [
    {
     "name": "stdout",
     "output_type": "stream",
     "text": [
      "x |   | o\n",
      "----------\n",
      "o |   | x\n",
      "----------\n",
      "x |   | o"
     ]
    }
   ],
   "source": [
    "drukuj_plansze(plansza)"
   ]
  },
  {
   "cell_type": "code",
   "execution_count": 15,
   "metadata": {},
   "outputs": [
    {
     "name": "stdout",
     "output_type": "stream",
     "text": [
      "['x', ' ', 'o']\n"
     ]
    }
   ],
   "source": [
    "print(plansza[0])"
   ]
  },
  {
   "cell_type": "code",
   "execution_count": 16,
   "metadata": {},
   "outputs": [
    {
     "name": "stdout",
     "output_type": "stream",
     "text": [
      "x\n"
     ]
    }
   ],
   "source": [
    "print(plansza[0][0])"
   ]
  },
  {
   "cell_type": "code",
   "execution_count": 14,
   "metadata": {},
   "outputs": [
    {
     "name": "stdout",
     "output_type": "stream",
     "text": [
      "a|a\n"
     ]
    }
   ],
   "source": [
    "print('a', end='|')\n",
    "print('a')"
   ]
  },
  {
   "cell_type": "markdown",
   "metadata": {},
   "source": [
    "### Zadanie 2\n",
    "Napisać **funkcję** sprawdzającą, czy któryś wiersz zawiera wyłącznie x lub o"
   ]
  },
  {
   "cell_type": "code",
   "execution_count": 37,
   "metadata": {},
   "outputs": [],
   "source": [
    "# znak to 'o' lub 'x'\n",
    "def sprawdz_wiersze(plansza, znak):\n",
    "    for i in range(3):\n",
    "        if (plansza[i][0] == znak) and (plansza[i][1] == znak) and (plansza[i][2] == znak):\n",
    "            return True\n",
    "        \n",
    "    return False"
   ]
  },
  {
   "cell_type": "code",
   "execution_count": 45,
   "metadata": {},
   "outputs": [],
   "source": [
    "# znak to 'o' lub 'x'\n",
    "def sprawdz_wiersze(plansza, znak):\n",
    "    for i in range(3): # 0, 1, 2, # dla wszystkich wierszy\n",
    "        wynik = True\n",
    "        for j in range(3): # 0, 1, 2 # dla wiersza\n",
    "            if (plansza[i][j] != znak):\n",
    "                wynik = False\n",
    "        if wynik:\n",
    "            return True\n",
    "        \n",
    "    return False"
   ]
  },
  {
   "cell_type": "code",
   "execution_count": 47,
   "metadata": {},
   "outputs": [
    {
     "name": "stdout",
     "output_type": "stream",
     "text": [
      "True\n"
     ]
    }
   ],
   "source": [
    "print(sprawdz_wiersze(plansza, 'x'))"
   ]
  },
  {
   "cell_type": "code",
   "execution_count": 54,
   "metadata": {},
   "outputs": [
    {
     "name": "stdout",
     "output_type": "stream",
     "text": [
      "x | x | o\n",
      "----------\n",
      "x | o | o\n",
      "----------\n",
      "x |   | o"
     ]
    }
   ],
   "source": [
    "drukuj_plansze(plansza)"
   ]
  },
  {
   "cell_type": "markdown",
   "metadata": {},
   "source": [
    "### Zadanie 3\n",
    "Napisać **funkcję** sprawdzającą, czy któraś **kolumna** zawiera wyłącznie x lub o"
   ]
  },
  {
   "cell_type": "code",
   "execution_count": 48,
   "metadata": {},
   "outputs": [],
   "source": [
    "def sprawdz_kolumny(plansza, znak):\n",
    "    for i in range(3):\n",
    "        if (plansza[0][i] == znak) and (plansza[1][i] == znak) and (plansza[2][i] == znak):\n",
    "            return True\n",
    "        \n",
    "    return False"
   ]
  },
  {
   "cell_type": "code",
   "execution_count": 55,
   "metadata": {},
   "outputs": [
    {
     "data": {
      "text/plain": [
       "True"
      ]
     },
     "execution_count": 55,
     "metadata": {},
     "output_type": "execute_result"
    }
   ],
   "source": [
    "sprawdz_kolumny(plansza, 'o')"
   ]
  },
  {
   "cell_type": "markdown",
   "metadata": {},
   "source": [
    "### Zadanie 4\n",
    "Napisać **funkcję** sprawdzającą, czy któraś **przekątna** zawiera wyłącznie x lub o"
   ]
  },
  {
   "cell_type": "code",
   "execution_count": 56,
   "metadata": {},
   "outputs": [],
   "source": [
    "def sprawdz_przekatne(plansza, znak):\n",
    "    if plansza[0][0] == znak and plansza[1][1] == znak and plansza[2][2] == znak:\n",
    "        return True\n",
    "    if plansza[0][2] == znak and plansza[1][1] == znak and plansza[2][0] == znak:\n",
    "        return True\n",
    "    \n",
    "    return False"
   ]
  },
  {
   "cell_type": "code",
   "execution_count": 71,
   "metadata": {},
   "outputs": [],
   "source": [
    "plansza = [['o', 'x', 'o'], ['x', 'x', 'o'], ['o', ' ', 'x']]"
   ]
  },
  {
   "cell_type": "code",
   "execution_count": 72,
   "metadata": {},
   "outputs": [
    {
     "name": "stdout",
     "output_type": "stream",
     "text": [
      "o | x | o\n",
      "----------\n",
      "x | x | o\n",
      "----------\n",
      "o |   | x"
     ]
    }
   ],
   "source": [
    "drukuj_plansze(plansza)"
   ]
  },
  {
   "cell_type": "code",
   "execution_count": 66,
   "metadata": {},
   "outputs": [
    {
     "data": {
      "text/plain": [
       "True"
      ]
     },
     "execution_count": 66,
     "metadata": {},
     "output_type": "execute_result"
    }
   ],
   "source": [
    "sprawdz_przekatne(plansza, 'x')"
   ]
  },
  {
   "cell_type": "markdown",
   "metadata": {},
   "source": [
    "### Zadanie 5\n",
    "Napisać **funkcję** sprawdzającą, czy któryś gracz wygrał"
   ]
  },
  {
   "cell_type": "code",
   "execution_count": 67,
   "metadata": {},
   "outputs": [],
   "source": [
    "def sprawdz_wygrana(plansza, znak):\n",
    "    return (sprawdz_wiersze(plansza, znak) or sprawdz_kolumny(plansza, znak) or sprawdz_przekatne(plansza, znak))"
   ]
  },
  {
   "cell_type": "code",
   "execution_count": 74,
   "metadata": {},
   "outputs": [
    {
     "data": {
      "text/plain": [
       "False"
      ]
     },
     "execution_count": 74,
     "metadata": {},
     "output_type": "execute_result"
    }
   ],
   "source": [
    "sprawdz_wygrana(plansza, 'x')"
   ]
  },
  {
   "cell_type": "code",
   "execution_count": 76,
   "metadata": {},
   "outputs": [
    {
     "name": "stdout",
     "output_type": "stream",
     "text": [
      "Jeszcze gramy\n"
     ]
    }
   ],
   "source": [
    "if sprawdz_wygrana(plansza, 'x'):\n",
    "    print('Hurra x wygrał !!!')\n",
    "else:\n",
    "    print('Jeszcze gramy')"
   ]
  },
  {
   "cell_type": "markdown",
   "metadata": {},
   "source": [
    "### Zadanie 6\n",
    "Napisać **funkcję**, która wykonuje losowy (ale poprawny ruch) x"
   ]
  },
  {
   "cell_type": "code",
   "execution_count": null,
   "metadata": {},
   "outputs": [],
   "source": []
  },
  {
   "cell_type": "markdown",
   "metadata": {},
   "source": [
    "### Zadanie 7\n",
    "Napisać **funkcję**, która wczytuje ruch gracza (dwie liczby) i wstawia o w odpowiednie miejsce. Wczytywanie zapętlić na wypadek nieprawidłowych danych"
   ]
  },
  {
   "cell_type": "code",
   "execution_count": null,
   "metadata": {
    "collapsed": true
   },
   "outputs": [],
   "source": []
  },
  {
   "cell_type": "markdown",
   "metadata": {},
   "source": [
    "### Zadanie 8\n",
    "Napisać grę z komputerem z wykorzystaniem powyższych funkcji"
   ]
  },
  {
   "cell_type": "code",
   "execution_count": null,
   "metadata": {
    "collapsed": true
   },
   "outputs": [],
   "source": []
  }
 ],
 "metadata": {
  "anaconda-cloud": {},
  "kernelspec": {
   "display_name": "Python 3",
   "language": "python",
   "name": "python3"
  },
  "language_info": {
   "codemirror_mode": {
    "name": "ipython",
    "version": 3
   },
   "file_extension": ".py",
   "mimetype": "text/x-python",
   "name": "python",
   "nbconvert_exporter": "python",
   "pygments_lexer": "ipython3",
   "version": "3.8.5"
  }
 },
 "nbformat": 4,
 "nbformat_minor": 1
}
