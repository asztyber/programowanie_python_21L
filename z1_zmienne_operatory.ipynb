{
  "nbformat": 4,
  "nbformat_minor": 0,
  "metadata": {
    "anaconda-cloud": {},
    "kernelspec": {
      "display_name": "Python 3",
      "language": "python",
      "name": "python3"
    },
    "language_info": {
      "codemirror_mode": {
        "name": "ipython",
        "version": 3
      },
      "file_extension": ".py",
      "mimetype": "text/x-python",
      "name": "python",
      "nbconvert_exporter": "python",
      "pygments_lexer": "ipython3",
      "version": "3.8.5"
    },
    "colab": {
      "name": "z1_zmienne_operatory.ipynb",
      "provenance": []
    }
  },
  "cells": [
    {
      "cell_type": "markdown",
      "metadata": {
        "id": "QxkRXsbfDFIt"
      },
      "source": [
        "# Zmienne\n",
        "\n",
        "\n",
        "- Zmienna - **nazwane** miejsce w pamięci, pozwala na zapisywanie i odczytywanie danych\n",
        "- Nazwy zmiennych mogą zawierać litery, cyfry i \\_, muszą zaczynać się literą lub \\_\n",
        "- Python rozróżnia wielkość liter\n"
      ]
    },
    {
      "cell_type": "code",
      "metadata": {
        "id": "Ct5OhMt1DFJB"
      },
      "source": [
        "# TODO: zadeklarować kilka zmiennych: int, float, str, bool, pokazać NameError"
      ],
      "execution_count": null,
      "outputs": []
    },
    {
      "cell_type": "code",
      "metadata": {
        "colab": {
          "base_uri": "https://localhost:8080/"
        },
        "id": "NArR6GTYDifW",
        "outputId": "6c0680fa-7696-42d3-c2b9-bddd2feecd3b"
      },
      "source": [
        "a = 3\n",
        "print(a)"
      ],
      "execution_count": 1,
      "outputs": [
        {
          "output_type": "stream",
          "text": [
            "3\n"
          ],
          "name": "stdout"
        }
      ]
    },
    {
      "cell_type": "code",
      "metadata": {
        "colab": {
          "base_uri": "https://localhost:8080/"
        },
        "id": "n0qYDkAGDq14",
        "outputId": "2e403dec-1c21-4325-e411-df1d86348f64"
      },
      "source": [
        "b = 3.4\n",
        "print(b)"
      ],
      "execution_count": 2,
      "outputs": [
        {
          "output_type": "stream",
          "text": [
            "3.4\n"
          ],
          "name": "stdout"
        }
      ]
    },
    {
      "cell_type": "code",
      "metadata": {
        "colab": {
          "base_uri": "https://localhost:8080/"
        },
        "id": "8V7C1RlGDuqq",
        "outputId": "a0b86207-4170-46c6-f3d4-8bf05628802a"
      },
      "source": [
        "napis = \"aaa\"\n",
        "print(napis)"
      ],
      "execution_count": 4,
      "outputs": [
        {
          "output_type": "stream",
          "text": [
            "aaa\n"
          ],
          "name": "stdout"
        }
      ]
    },
    {
      "cell_type": "code",
      "metadata": {
        "colab": {
          "base_uri": "https://localhost:8080/",
          "height": 36
        },
        "id": "c-3o6F6MD4EI",
        "outputId": "0f86cf6c-1716-4858-e09c-d44c3080635f"
      },
      "source": [
        "napis"
      ],
      "execution_count": 5,
      "outputs": [
        {
          "output_type": "execute_result",
          "data": {
            "application/vnd.google.colaboratory.intrinsic+json": {
              "type": "string"
            },
            "text/plain": [
              "'aaa'"
            ]
          },
          "metadata": {
            "tags": []
          },
          "execution_count": 5
        }
      ]
    },
    {
      "cell_type": "code",
      "metadata": {
        "colab": {
          "base_uri": "https://localhost:8080/",
          "height": 172
        },
        "id": "Ju24WTdSECU9",
        "outputId": "3e52e15a-2788-473c-e53f-919db2de3026"
      },
      "source": [
        "A"
      ],
      "execution_count": 8,
      "outputs": [
        {
          "output_type": "error",
          "ename": "NameError",
          "evalue": "ignored",
          "traceback": [
            "\u001b[0;31m---------------------------------------------------------------------------\u001b[0m",
            "\u001b[0;31mNameError\u001b[0m                                 Traceback (most recent call last)",
            "\u001b[0;32m<ipython-input-8-7d157d7c000a>\u001b[0m in \u001b[0;36m<module>\u001b[0;34m()\u001b[0m\n\u001b[0;32m----> 1\u001b[0;31m \u001b[0mA\u001b[0m\u001b[0;34m\u001b[0m\u001b[0;34m\u001b[0m\u001b[0m\n\u001b[0m",
            "\u001b[0;31mNameError\u001b[0m: name 'A' is not defined"
          ]
        }
      ]
    },
    {
      "cell_type": "markdown",
      "metadata": {
        "id": "AUruf1huDFJE"
      },
      "source": [
        "### Print\n",
        "funkcja print() drukuje"
      ]
    },
    {
      "cell_type": "code",
      "metadata": {
        "id": "VshSlVBQDFJH"
      },
      "source": [
        "# TODO: wydruk"
      ],
      "execution_count": null,
      "outputs": []
    },
    {
      "cell_type": "code",
      "metadata": {
        "colab": {
          "base_uri": "https://localhost:8080/"
        },
        "id": "drm9cKk3EP1H",
        "outputId": "36db9dd2-f027-4952-ded0-7fd1450b54ee"
      },
      "source": [
        "print('Wartość zmiennej a: ', a)"
      ],
      "execution_count": 9,
      "outputs": [
        {
          "output_type": "stream",
          "text": [
            "Wartość zmiennej a:  3\n"
          ],
          "name": "stdout"
        }
      ]
    },
    {
      "cell_type": "markdown",
      "metadata": {
        "id": "JEFtYhslDFJL"
      },
      "source": [
        "### Przypisanie\n",
        "znak = oznacza przypisanie, czyli podstawienie prawej strony do lewej"
      ]
    },
    {
      "cell_type": "code",
      "metadata": {
        "id": "1Vy71IDbDFJN"
      },
      "source": [
        "# TODO: przypisanie, inkrementacja"
      ],
      "execution_count": null,
      "outputs": []
    },
    {
      "cell_type": "code",
      "metadata": {
        "colab": {
          "base_uri": "https://localhost:8080/"
        },
        "id": "mnoidf1REcty",
        "outputId": "056de4fb-4566-4b6b-939f-fddf27a8c94c"
      },
      "source": [
        "c = a + b\n",
        "print(c)"
      ],
      "execution_count": 10,
      "outputs": [
        {
          "output_type": "stream",
          "text": [
            "6.4\n"
          ],
          "name": "stdout"
        }
      ]
    },
    {
      "cell_type": "code",
      "metadata": {
        "colab": {
          "base_uri": "https://localhost:8080/"
        },
        "id": "WzmR5zHAEp8s",
        "outputId": "c4862577-3c1a-440e-e885-d85e4ca82577"
      },
      "source": [
        "x = 1\n",
        "print(x)"
      ],
      "execution_count": 11,
      "outputs": [
        {
          "output_type": "stream",
          "text": [
            "1\n"
          ],
          "name": "stdout"
        }
      ]
    },
    {
      "cell_type": "code",
      "metadata": {
        "colab": {
          "base_uri": "https://localhost:8080/"
        },
        "id": "gaVc7IAREtEE",
        "outputId": "50da9f8a-bf6c-458c-be1e-43b82971d706"
      },
      "source": [
        "x = x + 1\n",
        "print(x)"
      ],
      "execution_count": 12,
      "outputs": [
        {
          "output_type": "stream",
          "text": [
            "2\n"
          ],
          "name": "stdout"
        }
      ]
    },
    {
      "cell_type": "markdown",
      "metadata": {
        "id": "I1BZUhg8DFJP"
      },
      "source": [
        "### Typy\n",
        "\n",
        "- int (integer) liczby całkowite\n",
        "- float liczby zmiennoprzecinkowe\n",
        "- str (string) napisy\n",
        "- bool logiczny (0 lub 1, prawda lub fałsz)"
      ]
    },
    {
      "cell_type": "code",
      "metadata": {
        "id": "rz5bo19HDFJR"
      },
      "source": [
        "# TODO: type"
      ],
      "execution_count": null,
      "outputs": []
    },
    {
      "cell_type": "code",
      "metadata": {
        "colab": {
          "base_uri": "https://localhost:8080/"
        },
        "id": "NSkgH7v7E5dq",
        "outputId": "6398af2e-b12e-4435-e6bd-ab440242e285"
      },
      "source": [
        "type(x)"
      ],
      "execution_count": 13,
      "outputs": [
        {
          "output_type": "execute_result",
          "data": {
            "text/plain": [
              "int"
            ]
          },
          "metadata": {
            "tags": []
          },
          "execution_count": 13
        }
      ]
    },
    {
      "cell_type": "code",
      "metadata": {
        "colab": {
          "base_uri": "https://localhost:8080/"
        },
        "id": "BwgR3n0FE8yR",
        "outputId": "e01b2509-c1f3-473c-a08f-61d87a4d7b29"
      },
      "source": [
        "type(b)"
      ],
      "execution_count": 14,
      "outputs": [
        {
          "output_type": "execute_result",
          "data": {
            "text/plain": [
              "float"
            ]
          },
          "metadata": {
            "tags": []
          },
          "execution_count": 14
        }
      ]
    },
    {
      "cell_type": "code",
      "metadata": {
        "colab": {
          "base_uri": "https://localhost:8080/"
        },
        "id": "7oNst4K3E_0y",
        "outputId": "7d005209-1430-4492-f51c-b01b09d43893"
      },
      "source": [
        "type(napis)"
      ],
      "execution_count": 15,
      "outputs": [
        {
          "output_type": "execute_result",
          "data": {
            "text/plain": [
              "str"
            ]
          },
          "metadata": {
            "tags": []
          },
          "execution_count": 15
        }
      ]
    },
    {
      "cell_type": "code",
      "metadata": {
        "colab": {
          "base_uri": "https://localhost:8080/"
        },
        "id": "mbl4Gxc1FDw0",
        "outputId": "1293a69d-b2a2-4818-d588-326bd0bf54b2"
      },
      "source": [
        "# True, False z dużej\n",
        "logiczna = False\n",
        "print(logiczna)"
      ],
      "execution_count": 19,
      "outputs": [
        {
          "output_type": "stream",
          "text": [
            "False\n"
          ],
          "name": "stdout"
        }
      ]
    },
    {
      "cell_type": "markdown",
      "metadata": {
        "id": "njliWPNGDFJS"
      },
      "source": [
        "Działanie operatora/funkcji może zależeć od typu zmiennych wejściowych"
      ]
    },
    {
      "cell_type": "code",
      "metadata": {
        "colab": {
          "base_uri": "https://localhost:8080/"
        },
        "id": "TkFi4vniFmF3",
        "outputId": "d281728f-d61e-49a3-9f3c-bbb3bdf31058"
      },
      "source": [
        "a + b"
      ],
      "execution_count": 20,
      "outputs": [
        {
          "output_type": "execute_result",
          "data": {
            "text/plain": [
              "6.4"
            ]
          },
          "metadata": {
            "tags": []
          },
          "execution_count": 20
        }
      ]
    },
    {
      "cell_type": "code",
      "metadata": {
        "colab": {
          "base_uri": "https://localhost:8080/",
          "height": 172
        },
        "id": "6WOMpRDyGKJX",
        "outputId": "af29f42c-5763-475b-9ead-ff9ff4449374"
      },
      "source": [
        "napis + a"
      ],
      "execution_count": 21,
      "outputs": [
        {
          "output_type": "error",
          "ename": "TypeError",
          "evalue": "ignored",
          "traceback": [
            "\u001b[0;31m---------------------------------------------------------------------------\u001b[0m",
            "\u001b[0;31mTypeError\u001b[0m                                 Traceback (most recent call last)",
            "\u001b[0;32m<ipython-input-21-781c2ee3735a>\u001b[0m in \u001b[0;36m<module>\u001b[0;34m()\u001b[0m\n\u001b[0;32m----> 1\u001b[0;31m \u001b[0mnapis\u001b[0m \u001b[0;34m+\u001b[0m \u001b[0ma\u001b[0m\u001b[0;34m\u001b[0m\u001b[0;34m\u001b[0m\u001b[0m\n\u001b[0m",
            "\u001b[0;31mTypeError\u001b[0m: can only concatenate str (not \"int\") to str"
          ]
        }
      ]
    },
    {
      "cell_type": "markdown",
      "metadata": {
        "id": "bDDbivyyDFJT"
      },
      "source": [
        "### Konwersje typów"
      ]
    },
    {
      "cell_type": "code",
      "metadata": {
        "id": "VatRheJoDFJT"
      },
      "source": [
        "# TODO: int/str, ValueError"
      ],
      "execution_count": null,
      "outputs": []
    },
    {
      "cell_type": "code",
      "metadata": {
        "colab": {
          "base_uri": "https://localhost:8080/",
          "height": 36
        },
        "id": "4AF7EBfQGbUU",
        "outputId": "f04cff4a-679f-4d21-dfaa-e646b833ea06"
      },
      "source": [
        "napis + ' ' + str(a)"
      ],
      "execution_count": 25,
      "outputs": [
        {
          "output_type": "execute_result",
          "data": {
            "application/vnd.google.colaboratory.intrinsic+json": {
              "type": "string"
            },
            "text/plain": [
              "'aaa 3'"
            ]
          },
          "metadata": {
            "tags": []
          },
          "execution_count": 25
        }
      ]
    },
    {
      "cell_type": "code",
      "metadata": {
        "id": "cTTmi2SuGqfF"
      },
      "source": [
        "a='bbb'"
      ],
      "execution_count": 38,
      "outputs": []
    },
    {
      "cell_type": "code",
      "metadata": {
        "colab": {
          "base_uri": "https://localhost:8080/",
          "height": 36
        },
        "id": "8b-Dl-CxHA0e",
        "outputId": "693ceab3-346c-42b5-9d09-d82f36fe4c2b"
      },
      "source": [
        "a"
      ],
      "execution_count": 39,
      "outputs": [
        {
          "output_type": "execute_result",
          "data": {
            "application/vnd.google.colaboratory.intrinsic+json": {
              "type": "string"
            },
            "text/plain": [
              "'bbb'"
            ]
          },
          "metadata": {
            "tags": []
          },
          "execution_count": 39
        }
      ]
    },
    {
      "cell_type": "code",
      "metadata": {
        "colab": {
          "base_uri": "https://localhost:8080/"
        },
        "id": "aLiW_NVpHOJY",
        "outputId": "542dd937-288f-4745-e351-a88823f50c53"
      },
      "source": [
        "type(a)"
      ],
      "execution_count": 32,
      "outputs": [
        {
          "output_type": "execute_result",
          "data": {
            "text/plain": [
              "str"
            ]
          },
          "metadata": {
            "tags": []
          },
          "execution_count": 32
        }
      ]
    },
    {
      "cell_type": "code",
      "metadata": {
        "colab": {
          "base_uri": "https://localhost:8080/"
        },
        "id": "d6mLDJkXHwJY",
        "outputId": "9a963700-acb6-42d3-e379-aace81e29298"
      },
      "source": [
        "a = 5\n",
        "type(a)"
      ],
      "execution_count": 33,
      "outputs": [
        {
          "output_type": "execute_result",
          "data": {
            "text/plain": [
              "int"
            ]
          },
          "metadata": {
            "tags": []
          },
          "execution_count": 33
        }
      ]
    },
    {
      "cell_type": "markdown",
      "metadata": {
        "id": "4owhUtJqDFJW"
      },
      "source": [
        "### Operatory\n",
        "- dodawanie +\n",
        "- odejmowanie -\n",
        "- mnożenie \\*\n",
        "- dzielenie /\n",
        "- dzielenie // bez reszty\n",
        "- modulo (reszta z dzielnia) %\n",
        "- potęgowanie \\**"
      ]
    },
    {
      "cell_type": "code",
      "metadata": {
        "colab": {
          "base_uri": "https://localhost:8080/"
        },
        "id": "UgCA7wxtDFJX",
        "outputId": "7dcf1292-d4d4-467c-9ead-ab360f1fa0c0"
      },
      "source": [
        "2/3"
      ],
      "execution_count": 34,
      "outputs": [
        {
          "output_type": "execute_result",
          "data": {
            "text/plain": [
              "0.6666666666666666"
            ]
          },
          "metadata": {
            "tags": []
          },
          "execution_count": 34
        }
      ]
    },
    {
      "cell_type": "code",
      "metadata": {
        "colab": {
          "base_uri": "https://localhost:8080/"
        },
        "id": "EqZKmEEYIBkD",
        "outputId": "e9a05ebe-dc2b-4bb9-c3f3-f28162ec49f6"
      },
      "source": [
        "2//3"
      ],
      "execution_count": 35,
      "outputs": [
        {
          "output_type": "execute_result",
          "data": {
            "text/plain": [
              "0"
            ]
          },
          "metadata": {
            "tags": []
          },
          "execution_count": 35
        }
      ]
    },
    {
      "cell_type": "code",
      "metadata": {
        "colab": {
          "base_uri": "https://localhost:8080/"
        },
        "id": "wqbi8GYSIKMM",
        "outputId": "a22ec5c1-1934-4985-c72e-4a140dafa5c1"
      },
      "source": [
        "8 % 5"
      ],
      "execution_count": 36,
      "outputs": [
        {
          "output_type": "execute_result",
          "data": {
            "text/plain": [
              "3"
            ]
          },
          "metadata": {
            "tags": []
          },
          "execution_count": 36
        }
      ]
    },
    {
      "cell_type": "code",
      "metadata": {
        "colab": {
          "base_uri": "https://localhost:8080/"
        },
        "id": "BUq6LXbfINrl",
        "outputId": "429c1ad6-dc51-4be3-d1af-31492f606b73"
      },
      "source": [
        "2 ** 4"
      ],
      "execution_count": 37,
      "outputs": [
        {
          "output_type": "execute_result",
          "data": {
            "text/plain": [
              "16"
            ]
          },
          "metadata": {
            "tags": []
          },
          "execution_count": 37
        }
      ]
    },
    {
      "cell_type": "markdown",
      "metadata": {
        "id": "CcMENfS0DFJZ"
      },
      "source": [
        "### Kolejność działań\n",
        "- nawiasy ()\n",
        "- potęgowanie\n",
        "- mnożenie i dzielenie\n",
        "- dodawanie i odejmowanie\n",
        "- od lewej do prawej"
      ]
    },
    {
      "cell_type": "markdown",
      "metadata": {
        "id": "i6KLblxDDFJc"
      },
      "source": [
        "### Zadanie 1\n",
        "- Przypisać wartości 2 i 3 do zmiennych a i b\n",
        "- podstawić do zmiennej c wynik $\\frac{b}{2a} + \\frac{5}{a + b}(4a - b)^3$\n",
        "- wydrukować c"
      ]
    },
    {
      "cell_type": "code",
      "metadata": {
        "id": "VSNi19JUDFJf"
      },
      "source": [
        "# TODO: szkielet zadania + wzór do wypełnienia"
      ],
      "execution_count": null,
      "outputs": []
    },
    {
      "cell_type": "code",
      "metadata": {
        "colab": {
          "base_uri": "https://localhost:8080/"
        },
        "id": "NmynBJOyIWqt",
        "outputId": "1243e132-a1b0-4fd0-f535-f7197dbaa16c"
      },
      "source": [
        "a = 2\n",
        "b = 3\n",
        "c = b / (2 * a) + 5 / (a + b) * (4 * a - b) ** 3\n",
        "print(c) "
      ],
      "execution_count": 44,
      "outputs": [
        {
          "output_type": "stream",
          "text": [
            "125.75\n"
          ],
          "name": "stdout"
        }
      ]
    },
    {
      "cell_type": "code",
      "metadata": {
        "colab": {
          "base_uri": "https://localhost:8080/"
        },
        "id": "9GbCVEZvKOZq",
        "outputId": "34508d09-848b-4366-a71f-700ccc0d6f7b"
      },
      "source": [
        "b / (2 * a)"
      ],
      "execution_count": 43,
      "outputs": [
        {
          "output_type": "execute_result",
          "data": {
            "text/plain": [
              "0.75"
            ]
          },
          "metadata": {
            "tags": []
          },
          "execution_count": 43
        }
      ]
    },
    {
      "cell_type": "markdown",
      "metadata": {
        "id": "IypHp5I7DFJg"
      },
      "source": [
        "### Biblioteki"
      ]
    },
    {
      "cell_type": "code",
      "metadata": {
        "colab": {
          "base_uri": "https://localhost:8080/"
        },
        "id": "KXKGlYBQDFJg",
        "outputId": "881f8887-835f-4280-e70a-11c6d9d468fe"
      },
      "source": [
        "import math\n",
        "math.sqrt(4)\n",
        "# instalacja dodatkowych pip install biblioteka"
      ],
      "execution_count": 45,
      "outputs": [
        {
          "output_type": "execute_result",
          "data": {
            "text/plain": [
              "2.0"
            ]
          },
          "metadata": {
            "tags": []
          },
          "execution_count": 45
        }
      ]
    },
    {
      "cell_type": "code",
      "metadata": {
        "colab": {
          "base_uri": "https://localhost:8080/"
        },
        "id": "_2WtWAMUDFJk",
        "outputId": "4468adc2-debc-4f0d-f441-2dcbd9a2d4b7"
      },
      "source": [
        "math.pi "
      ],
      "execution_count": 48,
      "outputs": [
        {
          "output_type": "execute_result",
          "data": {
            "text/plain": [
              "3.141592653589793"
            ]
          },
          "metadata": {
            "tags": []
          },
          "execution_count": 48
        }
      ]
    },
    {
      "cell_type": "markdown",
      "metadata": {
        "id": "Hlq0_L_bDFJl"
      },
      "source": [
        "### Zadanie 2\n",
        "Policzyć i wydrukować objętość i pole powierzchni stożka ściętego - na podstawie przypisanyhc wartości R, r i h.\n",
        "$$V=\\frac{1}{3} πh(R^2+Rr+r^2)$$\n",
        "$$l=\\sqrt{h^2 + (R-r)^2}$$\n",
        "$$P_b=πl(R+r)$$\n"
      ]
    },
    {
      "cell_type": "code",
      "metadata": {
        "colab": {
          "base_uri": "https://localhost:8080/"
        },
        "id": "tdkhoQhoDFJm",
        "outputId": "f7400845-1aed-41a5-d9e9-96ef3773d99b"
      },
      "source": [
        "import math\n",
        "\n",
        "r = 3\n",
        "R = 4.5\n",
        "h = 5\n",
        "V = 1/3 * math.pi * h * (R ** 2 + R * r + r ** 2)\n",
        "l = math.sqrt(h ** 2 + (R - r) ** 2)\n",
        "Pb = math.pi * l * (R + r)\n",
        "print('objetość: ', V)\n",
        "print('Pole powierzchni bocznej: ', Pb)"
      ],
      "execution_count": 52,
      "outputs": [
        {
          "output_type": "stream",
          "text": [
            "objetość:  223.83847656827274\n",
            "Pole powierzchni bocznej:  122.99696336107158\n"
          ],
          "name": "stdout"
        }
      ]
    },
    {
      "cell_type": "code",
      "metadata": {
        "colab": {
          "base_uri": "https://localhost:8080/"
        },
        "id": "94ndW4OkFkIV",
        "outputId": "46873d67-de37-4e84-f26f-b3fad1cacc1e"
      },
      "source": [
        "V"
      ],
      "execution_count": 50,
      "outputs": [
        {
          "output_type": "execute_result",
          "data": {
            "text/plain": [
              "Ellipsis"
            ]
          },
          "metadata": {
            "tags": []
          },
          "execution_count": 50
        }
      ]
    },
    {
      "cell_type": "code",
      "metadata": {
        "colab": {
          "base_uri": "https://localhost:8080/"
        },
        "id": "pUxw1nAyOP-S",
        "outputId": "08cbbfd8-8945-446e-879a-52aed3c923a5"
      },
      "source": [
        "type(V)"
      ],
      "execution_count": 51,
      "outputs": [
        {
          "output_type": "execute_result",
          "data": {
            "text/plain": [
              "ellipsis"
            ]
          },
          "metadata": {
            "tags": []
          },
          "execution_count": 51
        }
      ]
    },
    {
      "cell_type": "code",
      "metadata": {
        "id": "iic8sNGuOT5B"
      },
      "source": [
        ""
      ],
      "execution_count": null,
      "outputs": []
    }
  ]
}