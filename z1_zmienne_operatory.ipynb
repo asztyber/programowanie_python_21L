{
 "cells": [
  {
   "cell_type": "markdown",
   "metadata": {},
   "source": [
    "# Zmienne\n",
    "\n",
    "\n",
    "- Zmienna - **nazwane** miejsce w pamięci, pozwala na zapisywanie i odczytywanie danych\n",
    "- Nazwy zmiennych mogą zawierać litery, cyfry i \\_, muszą zaczynać się literą lub \\_\n",
    "- Python rozróżnia wielkość liter\n"
   ]
  },
  {
   "cell_type": "code",
   "execution_count": 1,
   "metadata": {},
   "outputs": [],
   "source": [
    "# TODO: zadeklarować kilka zmiennych: int, float, str, bool, pokazać NameError"
   ]
  },
  {
   "cell_type": "markdown",
   "metadata": {},
   "source": [
    "### Print\n",
    "funkcja print() drukuje"
   ]
  },
  {
   "cell_type": "code",
   "execution_count": null,
   "metadata": {},
   "outputs": [],
   "source": [
    "# TODO: wydruk"
   ]
  },
  {
   "cell_type": "markdown",
   "metadata": {},
   "source": [
    "### Przypisanie\n",
    "znak = oznacza przypisanie, czyli podstawienie prawej strony do lewej"
   ]
  },
  {
   "cell_type": "code",
   "execution_count": 2,
   "metadata": {},
   "outputs": [],
   "source": [
    "# TODO: przypisanie, inkrementacja"
   ]
  },
  {
   "cell_type": "markdown",
   "metadata": {},
   "source": [
    "### Typy\n",
    "\n",
    "- int (integer) liczby całkowite\n",
    "- float liczby zmiennoprzecinkowe\n",
    "- str (string) napisy\n",
    "- bool logiczny (0 lub 1, prawda lub fałsz)"
   ]
  },
  {
   "cell_type": "code",
   "execution_count": 3,
   "metadata": {},
   "outputs": [],
   "source": [
    "# TODO: type"
   ]
  },
  {
   "cell_type": "markdown",
   "metadata": {},
   "source": [
    "Działanie operatora/funkcji może zależeć od typu zmiennych wejściowych"
   ]
  },
  {
   "cell_type": "markdown",
   "metadata": {},
   "source": [
    "### Konwersje typów"
   ]
  },
  {
   "cell_type": "code",
   "execution_count": null,
   "metadata": {},
   "outputs": [],
   "source": [
    "# TODO: int/str, ValueError"
   ]
  },
  {
   "cell_type": "markdown",
   "metadata": {},
   "source": [
    "### Operatory\n",
    "- dodawanie +\n",
    "- odejmowanie -\n",
    "- mnożenie \\*\n",
    "- dzielenie /\n",
    "- modulo (reszta z dzielnia) %\n",
    "- potęgowanie \\**"
   ]
  },
  {
   "cell_type": "code",
   "execution_count": null,
   "metadata": {},
   "outputs": [],
   "source": []
  },
  {
   "cell_type": "markdown",
   "metadata": {},
   "source": [
    "### Kolejność działań\n",
    "- nawiasy ()\n",
    "- potęgowanie\n",
    "- mnożenie i dzielenie\n",
    "- dodawanie i odejmowanie\n",
    "- od lewej do prawej"
   ]
  },
  {
   "cell_type": "markdown",
   "metadata": {},
   "source": [
    "### Zadanie 1\n",
    "- Przypisać wartości 2 i 3 do zmiennych a i b\n",
    "- podstawić do zmiennej c wynik $\\frac{b}{2a} + \\frac{5}{a + b}(4a - b)^3$\n",
    "- wydrukować c"
   ]
  },
  {
   "cell_type": "code",
   "execution_count": null,
   "metadata": {},
   "outputs": [],
   "source": [
    "# TODO: szkielet zadania + wzór do wypełnienia"
   ]
  },
  {
   "cell_type": "markdown",
   "metadata": {},
   "source": [
    "### Biblioteki"
   ]
  },
  {
   "cell_type": "code",
   "execution_count": 42,
   "metadata": {},
   "outputs": [
    {
     "data": {
      "text/plain": [
       "2.0"
      ]
     },
     "execution_count": 42,
     "metadata": {},
     "output_type": "execute_result"
    }
   ],
   "source": [
    "import math\n",
    "math.sqrt(4)"
   ]
  },
  {
   "cell_type": "code",
   "execution_count": 43,
   "metadata": {},
   "outputs": [
    {
     "data": {
      "text/plain": [
       "3.141592653589793"
      ]
     },
     "execution_count": 43,
     "metadata": {},
     "output_type": "execute_result"
    }
   ],
   "source": [
    "math.pi"
   ]
  },
  {
   "cell_type": "markdown",
   "metadata": {},
   "source": [
    "### Zadanie 2\n",
    "Policzyć i wydrukować objętość i pole powierzchni stożka ściętego - na podstawie przypisanyhc wartości R, r i h.\n",
    "$$V=\\frac{1}{3} πh(R^2+Rr+r^2)$$\n",
    "$$l=\\sqrt{h^2 + (R-r)^2}$$\n",
    "$$P_b=πl(R+r)$$\n"
   ]
  },
  {
   "cell_type": "code",
   "execution_count": null,
   "metadata": {},
   "outputs": [],
   "source": []
  }
 ],
 "metadata": {
  "anaconda-cloud": {},
  "kernelspec": {
   "display_name": "Python 3",
   "language": "python",
   "name": "python3"
  },
  "language_info": {
   "codemirror_mode": {
    "name": "ipython",
    "version": 3
   },
   "file_extension": ".py",
   "mimetype": "text/x-python",
   "name": "python",
   "nbconvert_exporter": "python",
   "pygments_lexer": "ipython3",
   "version": "3.8.5"
  }
 },
 "nbformat": 4,
 "nbformat_minor": 1
}
