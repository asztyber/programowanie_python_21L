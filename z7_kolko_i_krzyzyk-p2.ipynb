{
 "cells": [
  {
   "cell_type": "markdown",
   "metadata": {},
   "source": [
    "# Kółko i krzyżyk\n",
    "\n",
    "* Podsumowanie ifów, pętli, list i funkcji\n",
    "* my (użytkownik) gramy kółkiem (znak 'o'), a komputer krzyżykiem znak 'x'"
   ]
  },
  {
   "cell_type": "markdown",
   "metadata": {},
   "source": [
    "Plansza będzie listą trzech list"
   ]
  },
  {
   "cell_type": "markdown",
   "metadata": {},
   "source": [
    "### Zadanie 1\n",
    "Napisać **funkcję** drukującą planszą mniej więcej jak poniżej"
   ]
  },
  {
   "cell_type": "code",
   "execution_count": null,
   "metadata": {},
   "outputs": [],
   "source": [
    "from IPython.display import clear_output"
   ]
  },
  {
   "cell_type": "code",
   "execution_count": null,
   "metadata": {},
   "outputs": [],
   "source": [
    "def drukuj_plansze(plansza):\n",
    "    clear_output(wait=True)\n",
    "    for i in range(len(plansza)):\n",
    "        for a in range(len(plansza[i])):\n",
    "            print(plansza[i][a], end=\"\")\n",
    "            if a < len(plansza[i])-1:\n",
    "                print(\" | \", end=\"\")\n",
    "        if i < len(plansza)-1:\n",
    "              print(\"\\n----------\")\n",
    "    print()"
   ]
  },
  {
   "cell_type": "code",
   "execution_count": null,
   "metadata": {},
   "outputs": [],
   "source": [
    "drukuj_plansze(plansza)\n",
    "drukuj_plansze(plansza)"
   ]
  },
  {
   "cell_type": "markdown",
   "metadata": {},
   "source": [
    "### Zadanie 2\n",
    "Napisać **funkcję** sprawdzającą, czy któryś wiersz zawiera wyłącznie x lub o"
   ]
  },
  {
   "cell_type": "code",
   "execution_count": null,
   "metadata": {},
   "outputs": [],
   "source": [
    "# znak to 'o' lub 'x'\n",
    "def sprawdz_wiersze(plansza, znak):\n",
    "    for i in range(3):\n",
    "        if (plansza[i][0] == znak) and (plansza[i][1] == znak) and (plansza[i][2] == znak):\n",
    "            return True\n",
    "        \n",
    "    return False"
   ]
  },
  {
   "cell_type": "code",
   "execution_count": null,
   "metadata": {},
   "outputs": [],
   "source": [
    "print(sprawdz_wiersze(plansza, 'x'))"
   ]
  },
  {
   "cell_type": "markdown",
   "metadata": {},
   "source": [
    "### Zadanie 3\n",
    "Napisać **funkcję** sprawdzającą, czy któraś **kolumna** zawiera wyłącznie x lub o"
   ]
  },
  {
   "cell_type": "code",
   "execution_count": null,
   "metadata": {},
   "outputs": [],
   "source": [
    "def sprawdz_kolumny(plansza, znak):\n",
    "    for i in range(3):\n",
    "        if (plansza[0][i] == znak) and (plansza[1][i] == znak) and (plansza[2][i] == znak):\n",
    "            return True\n",
    "        \n",
    "    return False"
   ]
  },
  {
   "cell_type": "code",
   "execution_count": null,
   "metadata": {},
   "outputs": [],
   "source": [
    "sprawdz_kolumny(plansza, 'o')"
   ]
  },
  {
   "cell_type": "markdown",
   "metadata": {},
   "source": [
    "### Zadanie 4\n",
    "Napisać **funkcję** sprawdzającą, czy któraś **przekątna** zawiera wyłącznie x lub o"
   ]
  },
  {
   "cell_type": "code",
   "execution_count": null,
   "metadata": {},
   "outputs": [],
   "source": [
    "def sprawdz_przekatne(plansza, znak):\n",
    "    if plansza[0][0] == znak and plansza[1][1] == znak and plansza[2][2] == znak:\n",
    "        return True\n",
    "    if plansza[0][2] == znak and plansza[1][1] == znak and plansza[2][0] == znak:\n",
    "        return True\n",
    "    \n",
    "    return False"
   ]
  },
  {
   "cell_type": "code",
   "execution_count": null,
   "metadata": {},
   "outputs": [],
   "source": [
    "sprawdz_przekatne(plansza, 'x')"
   ]
  },
  {
   "cell_type": "markdown",
   "metadata": {},
   "source": [
    "### Zadanie 5\n",
    "Napisać **funkcję** sprawdzającą, czy któryś gracz wygrał"
   ]
  },
  {
   "cell_type": "code",
   "execution_count": null,
   "metadata": {},
   "outputs": [],
   "source": [
    "def sprawdz_wygrana(plansza, znak):\n",
    "    return (sprawdz_wiersze(plansza, znak) or sprawdz_kolumny(plansza, znak) or sprawdz_przekatne(plansza, znak))"
   ]
  },
  {
   "cell_type": "code",
   "execution_count": null,
   "metadata": {},
   "outputs": [],
   "source": [
    "plansza = [['x', 'x', 'o'], ['x', 'x', 'o'], ['o', ' ', 'x']]"
   ]
  },
  {
   "cell_type": "code",
   "execution_count": null,
   "metadata": {},
   "outputs": [],
   "source": [
    "drukuj_plansze(plansza)"
   ]
  },
  {
   "cell_type": "code",
   "execution_count": null,
   "metadata": {},
   "outputs": [],
   "source": [
    "sprawdz_wygrana(plansza, 'o')"
   ]
  },
  {
   "cell_type": "markdown",
   "metadata": {},
   "source": [
    "### Zadanie 6\n",
    "Napisać **funkcję**, która wykonuje losowy (ale poprawny ruch) x"
   ]
  },
  {
   "cell_type": "code",
   "execution_count": null,
   "metadata": {},
   "outputs": [],
   "source": [
    "import random"
   ]
  },
  {
   "cell_type": "code",
   "execution_count": null,
   "metadata": {},
   "outputs": [],
   "source": [
    "random.randint(0, 2)"
   ]
  },
  {
   "cell_type": "code",
   "execution_count": null,
   "metadata": {},
   "outputs": [],
   "source": [
    "plansza[x][y] = 'x'"
   ]
  },
  {
   "cell_type": "code",
   "execution_count": null,
   "metadata": {},
   "outputs": [],
   "source": [
    "drukuj_plansze(plansza)"
   ]
  },
  {
   "cell_type": "code",
   "execution_count": null,
   "metadata": {},
   "outputs": [],
   "source": [
    "def ruch_komputera(plansza):\n",
    "    x = random.randint(0, 2)\n",
    "    y = random.randint(0, 2)\n",
    "    while plansza[x][y] != ' ':\n",
    "        x = random.randint(0, 2)\n",
    "        y = random.randint(0, 2)\n",
    "    plansza[x][y] = 'x'"
   ]
  },
  {
   "cell_type": "code",
   "execution_count": null,
   "metadata": {},
   "outputs": [],
   "source": [
    "plansza = [[' ', ' ', ' '], [' ', ' ', ' '], [' ', ' ', ' ']]"
   ]
  },
  {
   "cell_type": "code",
   "execution_count": null,
   "metadata": {},
   "outputs": [],
   "source": [
    "drukuj_plansze(plansza)"
   ]
  },
  {
   "cell_type": "code",
   "execution_count": null,
   "metadata": {},
   "outputs": [],
   "source": [
    "ruch_komputera(plansza)"
   ]
  },
  {
   "cell_type": "markdown",
   "metadata": {},
   "source": [
    "### Zadanie 7\n",
    "Napisać **funkcję**, która wczytuje ruch gracza (dwie liczby) i wstawia o w odpowiednie miejsce. Wczytywanie zapętlić na wypadek nieprawidłowych danych"
   ]
  },
  {
   "cell_type": "code",
   "execution_count": null,
   "metadata": {},
   "outputs": [],
   "source": [
    "def ruch_gracza(plansza):\n",
    "    print(\"funkcja ruch gracza\")\n",
    "    x = int(input('Podaj pierwszą współrzędną: '))\n",
    "    y = int(input('Podaj drugą współrzędną: '))\n",
    "    while (x < 0 or x > 2) or (y < 0 or y > 2) or plansza[x][y] != ' ':\n",
    "        print('Miejsce zajęte lub złe wartości współrzędnych')\n",
    "        x = int(input('Podaj pierwszą współrzędną: '))\n",
    "        y = int(input('Podaj drugą współrzędną: '))\n",
    "    plansza[x][y] = 'o'"
   ]
  },
  {
   "cell_type": "code",
   "execution_count": null,
   "metadata": {},
   "outputs": [],
   "source": [
    "plansza = [[' ', ' ', ' '], [' ', ' ', ' '], [' ', ' ', ' ']]"
   ]
  },
  {
   "cell_type": "code",
   "execution_count": null,
   "metadata": {},
   "outputs": [],
   "source": [
    "ruch_gracza(plansza)\n",
    "drukuj_plansze(plansza)"
   ]
  },
  {
   "cell_type": "markdown",
   "metadata": {},
   "source": [
    "### Sprawdzamy czy plansza jest pełna"
   ]
  },
  {
   "cell_type": "code",
   "execution_count": null,
   "metadata": {},
   "outputs": [],
   "source": [
    "def czy_pelna(plansza):\n",
    "    licznik_pustych = 0\n",
    "    for i in range(3):\n",
    "        for j in range(3):\n",
    "            if plansza[i][j] == ' ':\n",
    "                licznik_pustych += 1\n",
    "    return licznik_pustych == 0"
   ]
  },
  {
   "cell_type": "code",
   "execution_count": null,
   "metadata": {},
   "outputs": [],
   "source": [
    "czy_pelna(plansza)"
   ]
  },
  {
   "cell_type": "code",
   "execution_count": null,
   "metadata": {},
   "outputs": [],
   "source": [
    "plansza = [['x', 'x', 'x'], ['o', 'o', 'o'], ['o', 'o', ' ']]"
   ]
  },
  {
   "cell_type": "code",
   "execution_count": null,
   "metadata": {},
   "outputs": [],
   "source": [
    "drukuj_plansze(plansza)"
   ]
  },
  {
   "cell_type": "markdown",
   "metadata": {},
   "source": [
    "### Zadanie 8\n",
    "Napisać grę z komputerem z wykorzystaniem powyższych funkcji"
   ]
  },
  {
   "cell_type": "code",
   "execution_count": null,
   "metadata": {},
   "outputs": [],
   "source": [
    "plansza = [[' ', ' ', ' '], [' ', ' ', ' '], [' ', ' ', ' ']]\n",
    "\n",
    "while True:\n",
    "    print(\"Ruch gracza: \")\n",
    "    ruch_gracza(plansza)\n",
    "    drukuj_plansze(plansza)\n",
    "    if sprawdz_wygrana(plansza, 'o'):\n",
    "        print(\"Gratulacje! o wygrywa\")\n",
    "        break\n",
    "        \n",
    "    if czy_pelna(plansza):\n",
    "        print('Remis, pełna plansza')\n",
    "        break\n",
    "    \n",
    "    print(\"Ruch komputera: \")\n",
    "    ruch_komputera(plansza)\n",
    "    drukuj_plansze(plansza)\n",
    "    \n",
    "    if sprawdz_wygrana(plansza, 'x'):\n",
    "        print(\":( x wygrywa\")\n",
    "        break"
   ]
  },
  {
   "cell_type": "markdown",
   "metadata": {},
   "source": [
    "### Bonus - obsługa błędów"
   ]
  },
  {
   "cell_type": "code",
   "execution_count": null,
   "metadata": {},
   "outputs": [],
   "source": [
    "while True:\n",
    "    try:\n",
    "        x = int(input(\"Wpisz liczbę: \"))\n",
    "        break\n",
    "    except ValueError:\n",
    "        print(\"To nie była liczba!\")"
   ]
  },
  {
   "cell_type": "code",
   "execution_count": null,
   "metadata": {},
   "outputs": [],
   "source": [
    "print(x)"
   ]
  },
  {
   "cell_type": "code",
   "execution_count": null,
   "metadata": {},
   "outputs": [],
   "source": [
    "x = int(input(\"Wpisz liczbę: \"))"
   ]
  },
  {
   "cell_type": "code",
   "execution_count": null,
   "metadata": {},
   "outputs": [],
   "source": [
    "try:\n",
    "    x = int(input(\"Wpisz liczbę: \"))\n",
    "    print(\"sukces!\")\n",
    "except ValueError:\n",
    "        print(\"To nie była liczba!\")"
   ]
  },
  {
   "cell_type": "code",
   "execution_count": null,
   "metadata": {},
   "outputs": [],
   "source": []
  }
 ],
 "metadata": {
  "anaconda-cloud": {},
  "kernelspec": {
   "display_name": "Python 3",
   "language": "python",
   "name": "python3"
  },
  "language_info": {
   "codemirror_mode": {
    "name": "ipython",
    "version": 3
   },
   "file_extension": ".py",
   "mimetype": "text/x-python",
   "name": "python",
   "nbconvert_exporter": "python",
   "pygments_lexer": "ipython3",
   "version": "3.8.5"
  }
 },
 "nbformat": 4,
 "nbformat_minor": 1
}
