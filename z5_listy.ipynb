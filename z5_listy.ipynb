{
 "cells": [
  {
   "cell_type": "markdown",
   "metadata": {},
   "source": [
    "# Listy\n",
    "\n",
    "lista - struktura danych, zawierająca listę elementów (mogą być różnych typów)"
   ]
  },
  {
   "cell_type": "code",
   "execution_count": 1,
   "metadata": {},
   "outputs": [],
   "source": [
    "l = ['a', 'b', 'c']"
   ]
  },
  {
   "cell_type": "markdown",
   "metadata": {},
   "source": [
    "## Indeksowanie\n",
    "Lista o rozmiarze n ma indeksy od **0 do n - 1**"
   ]
  },
  {
   "cell_type": "code",
   "execution_count": 2,
   "metadata": {},
   "outputs": [
    {
     "data": {
      "text/plain": [
       "'a'"
      ]
     },
     "execution_count": 2,
     "metadata": {},
     "output_type": "execute_result"
    }
   ],
   "source": [
    "l[0]"
   ]
  },
  {
   "cell_type": "code",
   "execution_count": 5,
   "metadata": {},
   "outputs": [
    {
     "data": {
      "text/plain": [
       "'b'"
      ]
     },
     "execution_count": 5,
     "metadata": {},
     "output_type": "execute_result"
    }
   ],
   "source": [
    "l[1]"
   ]
  },
  {
   "cell_type": "code",
   "execution_count": 8,
   "metadata": {},
   "outputs": [
    {
     "ename": "IndexError",
     "evalue": "list index out of range",
     "output_type": "error",
     "traceback": [
      "\u001b[1;31m---------------------------------------------------------------------------\u001b[0m",
      "\u001b[1;31mIndexError\u001b[0m                                Traceback (most recent call last)",
      "\u001b[1;32m<ipython-input-8-05a0c0abb6e6>\u001b[0m in \u001b[0;36m<module>\u001b[1;34m\u001b[0m\n\u001b[1;32m----> 1\u001b[1;33m \u001b[0ml\u001b[0m\u001b[1;33m[\u001b[0m\u001b[1;36m30\u001b[0m\u001b[1;33m]\u001b[0m\u001b[1;33m\u001b[0m\u001b[1;33m\u001b[0m\u001b[0m\n\u001b[0m",
      "\u001b[1;31mIndexError\u001b[0m: list index out of range"
     ]
    }
   ],
   "source": [
    "l[30]"
   ]
  },
  {
   "cell_type": "code",
   "execution_count": null,
   "metadata": {},
   "outputs": [],
   "source": [
    "l = ['a', 'b', 'c']\n",
    "print(l[0]) #<- pierwszy element "
   ]
  },
  {
   "cell_type": "code",
   "execution_count": 11,
   "metadata": {},
   "outputs": [
    {
     "name": "stdout",
     "output_type": "stream",
     "text": [
      "[5, 10, 15, 20, 25, 30, 35, 40, 45, 50, 55, 60, 65, 70, 75, 80, 85, 90, 95]\n"
     ]
    }
   ],
   "source": [
    "lista = list(range(5, 100, 5))\n",
    "print(lista)"
   ]
  },
  {
   "cell_type": "markdown",
   "metadata": {},
   "source": [
    "### Zadanie 1\n",
    "* zdefiniować listę o 5 elementach\n",
    "* wydrukować pierwszy i ostatni element listy"
   ]
  },
  {
   "cell_type": "code",
   "execution_count": 13,
   "metadata": {},
   "outputs": [
    {
     "name": "stdout",
     "output_type": "stream",
     "text": [
      "Pierwszy element:  a\n",
      "Ostatni element:  e\n"
     ]
    }
   ],
   "source": [
    "l = ['a', 'b', 'c', 'd', 'e']\n",
    "print(\"Pierwszy element: \", l[0])\n",
    "print(\"Ostatni element: \", l[4])"
   ]
  },
  {
   "cell_type": "markdown",
   "metadata": {},
   "source": [
    "### Zadanie 2\n",
    "* zamienić miejscami pierwszy i ostatni element listy"
   ]
  },
  {
   "cell_type": "code",
   "execution_count": 25,
   "metadata": {},
   "outputs": [
    {
     "name": "stdout",
     "output_type": "stream",
     "text": [
      "['e', 'b', 'c', 'd', 'a']\n"
     ]
    }
   ],
   "source": [
    "# zamiana ze zmienną pomocniczą\n",
    "lista = ['a', 'b', 'c', 'd', 'e']\n",
    "schowek = lista[0]\n",
    "lista[0] = lista[4]\n",
    "lista[4] = schowek\n",
    "print(lista)"
   ]
  },
  {
   "cell_type": "code",
   "execution_count": 16,
   "metadata": {},
   "outputs": [
    {
     "name": "stdout",
     "output_type": "stream",
     "text": [
      "[1000, 'b', 'c', 'd', 'e']\n",
      "[1000, 'b', 'c', 'd', 'e']\n",
      "1000\n"
     ]
    }
   ],
   "source": [
    "# ['a', 'b', 'c', 'd', 'e'] -> ['e', 'b', 'c', 'd', 'a']\n",
    "print(l)\n",
    "l[0] = 1000\n",
    "print(l)\n",
    "zmienna = l[0]\n",
    "print(zmienna)"
   ]
  },
  {
   "cell_type": "code",
   "execution_count": 21,
   "metadata": {},
   "outputs": [
    {
     "name": "stdout",
     "output_type": "stream",
     "text": [
      "zmienna1  2\n",
      "zmienna2  3\n"
     ]
    }
   ],
   "source": [
    "zmienna1 = '2'\n",
    "zmienna2 = zmienna1\n",
    "zmienna2 = '3'\n",
    "print(\"zmienna1 \", zmienna1)\n",
    "print(\"zmienna2 \", zmienna2)"
   ]
  },
  {
   "cell_type": "code",
   "execution_count": 19,
   "metadata": {},
   "outputs": [
    {
     "name": "stdout",
     "output_type": "stream",
     "text": [
      "lista b:  [1, 2, 3, 4, 5]\n",
      "lista b:  [5, 2, 3, 4, 5]\n",
      "lista a:  [5, 2, 3, 4, 5]\n"
     ]
    }
   ],
   "source": [
    "a = [1, 2, 3, 4, 5]\n",
    "b = a # zmienne b i a odnoszą się do tej samej listy - to tak działa dla typów złożonych (oprócz int, float, bool, str)\n",
    "print(\"lista b: \", b)\n",
    "b[0] = a[4]\n",
    "print(\"lista b: \", b)\n",
    "print(\"lista a: \", a)"
   ]
  },
  {
   "cell_type": "code",
   "execution_count": 28,
   "metadata": {},
   "outputs": [
    {
     "name": "stdout",
     "output_type": "stream",
     "text": [
      "lista b:  [5, 2, 3, 4, 5]\n",
      "lista a:  [1, 2, 3, 4, 5]\n"
     ]
    }
   ],
   "source": [
    "a = [1, 2, 3, 4, 5]\n",
    "b = a.copy() # teraz b jest kopią (osobną listą, mozna zmieniać niezależnie)\n",
    "b[0] = a[4]\n",
    "print(\"lista b: \", b)\n",
    "print(\"lista a: \", a)"
   ]
  },
  {
   "cell_type": "markdown",
   "metadata": {},
   "source": [
    "### Enumerate\n",
    "* pozwala przejść przez elementy i indeksy listy"
   ]
  },
  {
   "cell_type": "code",
   "execution_count": 30,
   "metadata": {},
   "outputs": [
    {
     "name": "stdout",
     "output_type": "stream",
     "text": [
      "i= 0 , element= e\n",
      "i= 1 , element= b\n",
      "i= 2 , element= c\n",
      "i= 3 , element= d\n",
      "i= 4 , element= a\n"
     ]
    }
   ],
   "source": [
    "# i jest indeksem, element jest elementem\n",
    "for i, element in enumerate(lista):\n",
    "    print(\"i=\", i, \", element=\", element)"
   ]
  },
  {
   "cell_type": "markdown",
   "metadata": {},
   "source": [
    "### Długość listy\n",
    "długość listy sprawdzamy funkcją len"
   ]
  },
  {
   "cell_type": "code",
   "execution_count": 31,
   "metadata": {},
   "outputs": [
    {
     "data": {
      "text/plain": [
       "5"
      ]
     },
     "execution_count": 31,
     "metadata": {},
     "output_type": "execute_result"
    }
   ],
   "source": [
    "len(lista)"
   ]
  },
  {
   "cell_type": "markdown",
   "metadata": {},
   "source": [
    "### Zadanie 3\n",
    "* znaleźć indeks **najmniejszej** liczby <- to robimy\n",
    "* znaleźć indeks **największej** liczby\n",
    "* zamienić miejscami największą i najmniejszą liczbę"
   ]
  },
  {
   "cell_type": "code",
   "execution_count": 34,
   "metadata": {},
   "outputs": [
    {
     "name": "stdout",
     "output_type": "stream",
     "text": [
      "indeks najmniejszej  4\n",
      "najmniejsza  -1\n"
     ]
    }
   ],
   "source": [
    "lista = [100, 2, 3, 5, -1, 7, 2000]\n",
    "indeks_najmniejszej = 0\n",
    "for i, element in enumerate(lista):\n",
    "    if element < lista[indeks_najmniejszej]:\n",
    "        indeks_najmniejszej = i\n",
    "print(\"indeks najmniejszej \", indeks_najmniejszej)\n",
    "print(\"najmniejsza \", lista[indeks_najmniejszej])"
   ]
  },
  {
   "cell_type": "markdown",
   "metadata": {},
   "source": [
    "## Wycinki\n",
    "* lista[pierwszy indeks:drugi indeks]\n",
    "* pierwszy indeks jest uwzględniany, drugi nie\n",
    "* pominięcie pierwszego indeksu oznacza, że bierzemy elementy od początku\n",
    "* pominięcie drugiego indeksu oznacza, że bierzemy elementy do końca"
   ]
  },
  {
   "cell_type": "code",
   "execution_count": 3,
   "metadata": {},
   "outputs": [],
   "source": [
    "lista = ['a', 'b', 'c', 'd', 'e', 'f', 'g']"
   ]
  },
  {
   "cell_type": "code",
   "execution_count": 6,
   "metadata": {},
   "outputs": [
    {
     "data": {
      "text/plain": [
       "'a'"
      ]
     },
     "execution_count": 6,
     "metadata": {},
     "output_type": "execute_result"
    }
   ],
   "source": [
    "lista[0]"
   ]
  },
  {
   "cell_type": "code",
   "execution_count": 5,
   "metadata": {},
   "outputs": [
    {
     "data": {
      "text/plain": [
       "str"
      ]
     },
     "execution_count": 5,
     "metadata": {},
     "output_type": "execute_result"
    }
   ],
   "source": [
    "type(lista[0])"
   ]
  },
  {
   "cell_type": "code",
   "execution_count": 7,
   "metadata": {},
   "outputs": [
    {
     "data": {
      "text/plain": [
       "['d', 'e', 'f']"
      ]
     },
     "execution_count": 7,
     "metadata": {},
     "output_type": "execute_result"
    }
   ],
   "source": [
    "lista[3:6] # bierzemy indeksy od 3 do 5"
   ]
  },
  {
   "cell_type": "code",
   "execution_count": 8,
   "metadata": {},
   "outputs": [
    {
     "data": {
      "text/plain": [
       "list"
      ]
     },
     "execution_count": 8,
     "metadata": {},
     "output_type": "execute_result"
    }
   ],
   "source": [
    "type(lista[3:6])"
   ]
  },
  {
   "cell_type": "code",
   "execution_count": 9,
   "metadata": {},
   "outputs": [
    {
     "data": {
      "text/plain": [
       "['a', 'b', 'c', 'd', 'e', 'f', 'g']"
      ]
     },
     "execution_count": 9,
     "metadata": {},
     "output_type": "execute_result"
    }
   ],
   "source": [
    "lista"
   ]
  },
  {
   "cell_type": "code",
   "execution_count": 10,
   "metadata": {},
   "outputs": [
    {
     "data": {
      "text/plain": [
       "['c', 'd', 'e', 'f', 'g']"
      ]
     },
     "execution_count": 10,
     "metadata": {},
     "output_type": "execute_result"
    }
   ],
   "source": [
    "lista[2:]"
   ]
  },
  {
   "cell_type": "code",
   "execution_count": 11,
   "metadata": {},
   "outputs": [
    {
     "data": {
      "text/plain": [
       "['a', 'b', 'c', 'd']"
      ]
     },
     "execution_count": 11,
     "metadata": {},
     "output_type": "execute_result"
    }
   ],
   "source": [
    "lista[:4]"
   ]
  },
  {
   "cell_type": "code",
   "execution_count": 14,
   "metadata": {},
   "outputs": [
    {
     "data": {
      "text/plain": [
       "['g', 'f', 'e', 'd', 'c', 'b', 'a']"
      ]
     },
     "execution_count": 14,
     "metadata": {},
     "output_type": "execute_result"
    }
   ],
   "source": [
    "# można podać na końcu co który element\n",
    "lista[::-1]\n",
    "# -1 na końcu podaje w odwrotnej kolejności"
   ]
  },
  {
   "cell_type": "markdown",
   "metadata": {},
   "source": [
    "## Dodawanie i usuwanie elementów listy\n",
    "* funkcja append dodaje element do listy\n",
    "* funkcja remove usuwa element listy (próba usunięcia elementu, którego nie ma na liście powoduje błąd)\n",
    "* in pozwala sprawdzić, czy lista zawiera dany element"
   ]
  },
  {
   "cell_type": "code",
   "execution_count": 15,
   "metadata": {},
   "outputs": [],
   "source": [
    "l1 = []"
   ]
  },
  {
   "cell_type": "code",
   "execution_count": 18,
   "metadata": {},
   "outputs": [
    {
     "data": {
      "text/plain": [
       "['a', 'a', 'a']"
      ]
     },
     "execution_count": 18,
     "metadata": {},
     "output_type": "execute_result"
    }
   ],
   "source": [
    "l1.append('a')\n",
    "l1"
   ]
  },
  {
   "cell_type": "code",
   "execution_count": 19,
   "metadata": {},
   "outputs": [],
   "source": [
    "l1.append(2)"
   ]
  },
  {
   "cell_type": "code",
   "execution_count": 20,
   "metadata": {},
   "outputs": [
    {
     "data": {
      "text/plain": [
       "['a', 'a', 'a', 2, 3]"
      ]
     },
     "execution_count": 20,
     "metadata": {},
     "output_type": "execute_result"
    }
   ],
   "source": [
    "l1.append(3)\n",
    "l1"
   ]
  },
  {
   "cell_type": "code",
   "execution_count": 21,
   "metadata": {},
   "outputs": [],
   "source": [
    "l1.remove(2)"
   ]
  },
  {
   "cell_type": "code",
   "execution_count": 22,
   "metadata": {},
   "outputs": [
    {
     "data": {
      "text/plain": [
       "['a', 'a', 'a', 3]"
      ]
     },
     "execution_count": 22,
     "metadata": {},
     "output_type": "execute_result"
    }
   ],
   "source": [
    "l1"
   ]
  },
  {
   "cell_type": "code",
   "execution_count": 24,
   "metadata": {},
   "outputs": [
    {
     "data": {
      "text/plain": [
       "['a', 3]"
      ]
     },
     "execution_count": 24,
     "metadata": {},
     "output_type": "execute_result"
    }
   ],
   "source": [
    "l1.remove('a')\n",
    "l1"
   ]
  },
  {
   "cell_type": "code",
   "execution_count": 26,
   "metadata": {},
   "outputs": [
    {
     "ename": "ValueError",
     "evalue": "list.remove(x): x not in list",
     "output_type": "error",
     "traceback": [
      "\u001b[1;31m---------------------------------------------------------------------------\u001b[0m",
      "\u001b[1;31mValueError\u001b[0m                                Traceback (most recent call last)",
      "\u001b[1;32m<ipython-input-26-93b2385f14d6>\u001b[0m in \u001b[0;36m<module>\u001b[1;34m\u001b[0m\n\u001b[1;32m----> 1\u001b[1;33m \u001b[0ml1\u001b[0m\u001b[1;33m.\u001b[0m\u001b[0mremove\u001b[0m\u001b[1;33m(\u001b[0m\u001b[1;36m5\u001b[0m\u001b[1;33m)\u001b[0m\u001b[1;33m\u001b[0m\u001b[1;33m\u001b[0m\u001b[0m\n\u001b[0m",
      "\u001b[1;31mValueError\u001b[0m: list.remove(x): x not in list"
     ]
    }
   ],
   "source": [
    "l1.remove(5)"
   ]
  },
  {
   "cell_type": "code",
   "execution_count": 27,
   "metadata": {},
   "outputs": [
    {
     "data": {
      "text/plain": [
       "['a', 3]"
      ]
     },
     "execution_count": 27,
     "metadata": {},
     "output_type": "execute_result"
    }
   ],
   "source": [
    "l1"
   ]
  },
  {
   "cell_type": "code",
   "execution_count": 28,
   "metadata": {},
   "outputs": [
    {
     "data": {
      "text/plain": [
       "True"
      ]
     },
     "execution_count": 28,
     "metadata": {},
     "output_type": "execute_result"
    }
   ],
   "source": [
    "'a' in l1"
   ]
  },
  {
   "cell_type": "code",
   "execution_count": 29,
   "metadata": {},
   "outputs": [
    {
     "data": {
      "text/plain": [
       "False"
      ]
     },
     "execution_count": 29,
     "metadata": {},
     "output_type": "execute_result"
    }
   ],
   "source": [
    "'b' in l1"
   ]
  },
  {
   "cell_type": "markdown",
   "metadata": {},
   "source": [
    "### Zadanie 3\n",
    "* wczytać 6 liczb i umieścić je na liście\n",
    "* następnie wydrukować elementy od drugiego do czwartego (z drugim i czwartym włącznie) (pamiętamy, że listy są indeksowane od 0, czyli drugi element ma indeks 1)"
   ]
  },
  {
   "cell_type": "code",
   "execution_count": 32,
   "metadata": {},
   "outputs": [
    {
     "name": "stdout",
     "output_type": "stream",
     "text": [
      "podaj liczbe: 1\n",
      "podaj liczbe: 2\n",
      "podaj liczbe: 3\n",
      "podaj liczbe: 4\n",
      "podaj liczbe: 5\n",
      "podaj liczbe: 6\n",
      "cała lista:  ['1', '2', '3', '4', '5', '6']\n",
      "wycinek:  ['2', '3', '4']\n"
     ]
    }
   ],
   "source": [
    "lista = []\n",
    "for i in range(6):\n",
    "    x = input('podaj liczbe: ')\n",
    "    lista.append(x)\n",
    "    \n",
    "print('cała lista: ', lista)\n",
    "print('wycinek: ', lista[1:4])"
   ]
  },
  {
   "cell_type": "code",
   "execution_count": 30,
   "metadata": {},
   "outputs": [
    {
     "name": "stdout",
     "output_type": "stream",
     "text": [
      "Podaj element: 2\n",
      "2\n"
     ]
    }
   ],
   "source": [
    "# append dodaje do listy\n",
    "x = input('Podaj element: ')\n",
    "print(x)"
   ]
  },
  {
   "cell_type": "code",
   "execution_count": null,
   "metadata": {},
   "outputs": [],
   "source": [
    "for i in range(6):\n",
    "    print('a')"
   ]
  },
  {
   "cell_type": "code",
   "execution_count": null,
   "metadata": {},
   "outputs": [],
   "source": [
    "lista = []\n",
    "lista.append(4)\n",
    "# wycinki lista[poczatek:koniec] (początek będzie uwzględniony, koniec nie)"
   ]
  },
  {
   "cell_type": "markdown",
   "metadata": {},
   "source": [
    "## Indeksy list zagnieżdżonych\n",
    "* pierwszy indeks dotyczy listy wewnętrznej\n",
    "* drugi indeks dotyczy elementu listy wewnętrznej"
   ]
  },
  {
   "cell_type": "code",
   "execution_count": 36,
   "metadata": {},
   "outputs": [],
   "source": [
    "l = [['a', 'b', 'c'], ['1', '2', '3']]"
   ]
  },
  {
   "cell_type": "code",
   "execution_count": 37,
   "metadata": {},
   "outputs": [
    {
     "name": "stdout",
     "output_type": "stream",
     "text": [
      "[['a', 'b', 'c'], ['1', '2', '3']]\n"
     ]
    }
   ],
   "source": [
    "print(l)"
   ]
  },
  {
   "cell_type": "code",
   "execution_count": 38,
   "metadata": {},
   "outputs": [
    {
     "name": "stdout",
     "output_type": "stream",
     "text": [
      "['a', 'b', 'c']\n",
      "['1', '2', '3']\n"
     ]
    }
   ],
   "source": [
    "for lista in l:\n",
    "    print(lista)"
   ]
  },
  {
   "cell_type": "code",
   "execution_count": 40,
   "metadata": {},
   "outputs": [
    {
     "data": {
      "text/plain": [
       "'a'"
      ]
     },
     "execution_count": 40,
     "metadata": {},
     "output_type": "execute_result"
    }
   ],
   "source": [
    "l[0][0]"
   ]
  },
  {
   "cell_type": "code",
   "execution_count": 41,
   "metadata": {},
   "outputs": [
    {
     "data": {
      "text/plain": [
       "'2'"
      ]
     },
     "execution_count": 41,
     "metadata": {},
     "output_type": "execute_result"
    }
   ],
   "source": [
    "l[1][1]"
   ]
  },
  {
   "cell_type": "code",
   "execution_count": 32,
   "metadata": {},
   "outputs": [
    {
     "name": "stdout",
     "output_type": "stream",
     "text": [
      "podaj liczbe: 1\n",
      "podaj liczbe: 2\n",
      "podaj liczbe: 3\n",
      "podaj liczbe: 4\n",
      "podaj liczbe: 5\n",
      "podaj liczbe: 6\n",
      "cała lista:  ['1', '2', '3', '4', '5', '6']\n",
      "wycinek:  ['2', '3', '4']\n"
     ]
    }
   ],
   "source": [
    "lista = []\n",
    "for i in range(6):\n",
    "    x = input('podaj liczbe: ')\n",
    "    lista.append(x)\n",
    "    \n",
    "print('cała lista: ', lista)\n",
    "print('wycinek: ', lista[1:4])"
   ]
  },
  {
   "cell_type": "markdown",
   "metadata": {},
   "source": [
    "### Zadanie 4\n",
    "* wczytać n (liczba całkowita)\n",
    "* wczytać n liczb i umieścić je na liście\n",
    "* przesunąć liczb o 1 cyklicznie w lewo"
   ]
  },
  {
   "cell_type": "code",
   "execution_count": 54,
   "metadata": {},
   "outputs": [
    {
     "name": "stdout",
     "output_type": "stream",
     "text": [
      "Podaj ile elementów: 5\n",
      "Podaj element listy nr 1: a\n",
      "Podaj element listy nr 2: b\n",
      "Podaj element listy nr 3: c\n",
      "Podaj element listy nr 4: d\n",
      "Podaj element listy nr 5: e\n",
      "['a', 'b', 'c', 'd', 'e']\n",
      "['b', 'c', 'd', 'e', 'a']\n"
     ]
    }
   ],
   "source": [
    "n = int(input('Podaj ile elementów: '))\n",
    "lista = []\n",
    "for i in range(n):\n",
    "    element = input('Podaj element listy nr ' + str(i + 1) + ': ')\n",
    "    lista.append(element)\n",
    "\n",
    "print(lista)\n",
    "\n",
    "schowek = lista[0]\n",
    "for i in range(n - 1):\n",
    "    lista[i] = lista[i+1]\n",
    "\n",
    "lista[n - 1] = schowek\n",
    "\n",
    "print(lista)"
   ]
  },
  {
   "cell_type": "code",
   "execution_count": 57,
   "metadata": {},
   "outputs": [
    {
     "name": "stdout",
     "output_type": "stream",
     "text": [
      "[2, 3, 4, 5, 1]\n"
     ]
    }
   ],
   "source": [
    "liczby = [1, 2, 3, 4, 5]\n",
    "usun = liczby[0]\n",
    "liczby.remove(usun)\n",
    "liczby.append(usun)\n",
    "print(liczby)"
   ]
  },
  {
   "cell_type": "code",
   "execution_count": 50,
   "metadata": {},
   "outputs": [
    {
     "data": {
      "text/plain": [
       "2"
      ]
     },
     "execution_count": 50,
     "metadata": {},
     "output_type": "execute_result"
    }
   ],
   "source": [
    "n"
   ]
  },
  {
   "cell_type": "code",
   "execution_count": 49,
   "metadata": {},
   "outputs": [
    {
     "ename": "IndexError",
     "evalue": "list index out of range",
     "output_type": "error",
     "traceback": [
      "\u001b[1;31m---------------------------------------------------------------------------\u001b[0m",
      "\u001b[1;31mIndexError\u001b[0m                                Traceback (most recent call last)",
      "\u001b[1;32m<ipython-input-49-99569ae93772>\u001b[0m in \u001b[0;36m<module>\u001b[1;34m\u001b[0m\n\u001b[1;32m----> 1\u001b[1;33m \u001b[0mlista\u001b[0m\u001b[1;33m[\u001b[0m\u001b[1;36m2\u001b[0m\u001b[1;33m]\u001b[0m\u001b[1;33m\u001b[0m\u001b[1;33m\u001b[0m\u001b[0m\n\u001b[0m",
      "\u001b[1;31mIndexError\u001b[0m: list index out of range"
     ]
    }
   ],
   "source": [
    "lista[2]"
   ]
  },
  {
   "cell_type": "markdown",
   "metadata": {},
   "source": [
    "### Zadanie 5\n",
    "\n",
    "* utworzyć listę 5 list (każda o 5 elementach) wypełnionych liczbami losowymi z zakresu <0, 9>\n",
    "* wszędzie na głównej przekątnej wstawić liczbę 5"
   ]
  },
  {
   "cell_type": "code",
   "execution_count": 58,
   "metadata": {},
   "outputs": [],
   "source": [
    "import random"
   ]
  },
  {
   "cell_type": "code",
   "execution_count": 61,
   "metadata": {},
   "outputs": [
    {
     "data": {
      "text/plain": [
       "[7, 0, 9, 10, 10]"
      ]
     },
     "execution_count": 61,
     "metadata": {},
     "output_type": "execute_result"
    }
   ],
   "source": [
    "[random.randint(0, 10) for i in range(5)]"
   ]
  },
  {
   "cell_type": "code",
   "execution_count": 65,
   "metadata": {},
   "outputs": [],
   "source": [
    "dane = [[random.randint(0, 9) for i in range(5)] for j in range(5)]"
   ]
  },
  {
   "cell_type": "code",
   "execution_count": 68,
   "metadata": {},
   "outputs": [
    {
     "name": "stdout",
     "output_type": "stream",
     "text": [
      "[[2, 1, 4, 6, 4], [5, 4, 3, 4, 3], [8, 0, 0, 4, 3], [9, 4, 1, 4, 7], [0, 4, 1, 5, 0]]\n"
     ]
    }
   ],
   "source": [
    "print(dane)"
   ]
  },
  {
   "cell_type": "code",
   "execution_count": 67,
   "metadata": {},
   "outputs": [
    {
     "name": "stdout",
     "output_type": "stream",
     "text": [
      "[2, 1, 4, 6, 4]\n",
      "[5, 4, 3, 4, 3]\n",
      "[8, 0, 0, 4, 3]\n",
      "[9, 4, 1, 4, 7]\n",
      "[0, 4, 1, 5, 0]\n"
     ]
    }
   ],
   "source": [
    "for lista in dane:\n",
    "    print(lista)"
   ]
  },
  {
   "cell_type": "code",
   "execution_count": 69,
   "metadata": {},
   "outputs": [
    {
     "name": "stdout",
     "output_type": "stream",
     "text": [
      "[5, 1, 4, 6, 4]\n",
      "[5, 5, 3, 4, 3]\n",
      "[8, 0, 5, 4, 3]\n",
      "[9, 4, 1, 5, 7]\n",
      "[0, 4, 1, 5, 5]\n"
     ]
    }
   ],
   "source": [
    "for i in range(5):\n",
    "    dane[i][i] = 5\n",
    "\n",
    "for lista in dane:\n",
    "    print(lista)"
   ]
  },
  {
   "cell_type": "markdown",
   "metadata": {},
   "source": [
    "### Zadnie 5 cd\n",
    "* dla każdej kolumny drukować ile zawiera liczb parzystych"
   ]
  },
  {
   "cell_type": "code",
   "execution_count": 78,
   "metadata": {},
   "outputs": [
    {
     "name": "stdout",
     "output_type": "stream",
     "text": [
      "5\n",
      "5\n",
      "8\n",
      "9\n",
      "0\n",
      "kolumna o indeksie:  0 , licznik parzystych:  2\n",
      "1\n",
      "5\n",
      "0\n",
      "4\n",
      "4\n",
      "kolumna o indeksie:  1 , licznik parzystych:  3\n",
      "4\n",
      "3\n",
      "5\n",
      "1\n",
      "1\n",
      "kolumna o indeksie:  2 , licznik parzystych:  1\n",
      "6\n",
      "4\n",
      "4\n",
      "5\n",
      "5\n",
      "kolumna o indeksie:  3 , licznik parzystych:  3\n",
      "4\n",
      "3\n",
      "3\n",
      "7\n",
      "5\n",
      "kolumna o indeksie:  4 , licznik parzystych:  1\n"
     ]
    }
   ],
   "source": [
    "# wydruk pierwszej kolumny\n",
    "for j in range(5):\n",
    "    licznik = 0\n",
    "    for i in range(5):\n",
    "        if dane[i][j] % 2 == 0:\n",
    "            licznik += 1\n",
    "        print(dane[i][j])\n",
    "\n",
    "    print('kolumna o indeksie: ', j, ', licznik parzystych: ', licznik)"
   ]
  },
  {
   "cell_type": "code",
   "execution_count": 75,
   "metadata": {},
   "outputs": [
    {
     "data": {
      "text/plain": [
       "False"
      ]
     },
     "execution_count": 75,
     "metadata": {},
     "output_type": "execute_result"
    }
   ],
   "source": [
    "5 % 2 == 0"
   ]
  },
  {
   "cell_type": "markdown",
   "metadata": {},
   "source": [
    "* znaleźć sumę liczb dla każdej kolumny\n",
    "* kolumny o sumie liczb większej niż 30 wyzerować"
   ]
  },
  {
   "cell_type": "code",
   "execution_count": null,
   "metadata": {},
   "outputs": [],
   "source": []
  }
 ],
 "metadata": {
  "kernelspec": {
   "display_name": "Python 3",
   "language": "python",
   "name": "python3"
  },
  "language_info": {
   "codemirror_mode": {
    "name": "ipython",
    "version": 3
   },
   "file_extension": ".py",
   "mimetype": "text/x-python",
   "name": "python",
   "nbconvert_exporter": "python",
   "pygments_lexer": "ipython3",
   "version": "3.8.5"
  }
 },
 "nbformat": 4,
 "nbformat_minor": 2
}
