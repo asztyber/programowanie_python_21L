{
 "cells": [
  {
   "cell_type": "markdown",
   "metadata": {},
   "source": [
    "# Listy\n",
    "\n",
    "lista - struktura danych, zawierająca listę elementów (mogą być różnych typów)"
   ]
  },
  {
   "cell_type": "code",
   "execution_count": 3,
   "metadata": {},
   "outputs": [],
   "source": [
    "l = ['a', 'b', 'c']"
   ]
  },
  {
   "cell_type": "markdown",
   "metadata": {},
   "source": [
    "## Indeksowanie\n",
    "Lista o rozmiarze n ma indeksy od **0 do n - 1**"
   ]
  },
  {
   "cell_type": "code",
   "execution_count": 4,
   "metadata": {},
   "outputs": [
    {
     "data": {
      "text/plain": [
       "'a'"
      ]
     },
     "execution_count": 4,
     "metadata": {},
     "output_type": "execute_result"
    }
   ],
   "source": [
    "l[0]"
   ]
  },
  {
   "cell_type": "code",
   "execution_count": 5,
   "metadata": {},
   "outputs": [
    {
     "data": {
      "text/plain": [
       "'b'"
      ]
     },
     "execution_count": 5,
     "metadata": {},
     "output_type": "execute_result"
    }
   ],
   "source": [
    "l[1]"
   ]
  },
  {
   "cell_type": "code",
   "execution_count": 8,
   "metadata": {},
   "outputs": [
    {
     "ename": "IndexError",
     "evalue": "list index out of range",
     "output_type": "error",
     "traceback": [
      "\u001b[1;31m---------------------------------------------------------------------------\u001b[0m",
      "\u001b[1;31mIndexError\u001b[0m                                Traceback (most recent call last)",
      "\u001b[1;32m<ipython-input-8-05a0c0abb6e6>\u001b[0m in \u001b[0;36m<module>\u001b[1;34m\u001b[0m\n\u001b[1;32m----> 1\u001b[1;33m \u001b[0ml\u001b[0m\u001b[1;33m[\u001b[0m\u001b[1;36m30\u001b[0m\u001b[1;33m]\u001b[0m\u001b[1;33m\u001b[0m\u001b[1;33m\u001b[0m\u001b[0m\n\u001b[0m",
      "\u001b[1;31mIndexError\u001b[0m: list index out of range"
     ]
    }
   ],
   "source": [
    "l[30]"
   ]
  },
  {
   "cell_type": "code",
   "execution_count": null,
   "metadata": {},
   "outputs": [],
   "source": [
    "l = ['a', 'b', 'c']\n",
    "print(l[0]) #<- pierwszy element "
   ]
  },
  {
   "cell_type": "code",
   "execution_count": 11,
   "metadata": {},
   "outputs": [
    {
     "name": "stdout",
     "output_type": "stream",
     "text": [
      "[5, 10, 15, 20, 25, 30, 35, 40, 45, 50, 55, 60, 65, 70, 75, 80, 85, 90, 95]\n"
     ]
    }
   ],
   "source": [
    "lista = list(range(5, 100, 5))\n",
    "print(lista)"
   ]
  },
  {
   "cell_type": "markdown",
   "metadata": {},
   "source": [
    "### Zadanie 1\n",
    "* zdefiniować listę o 5 elementach\n",
    "* wydrukować pierwszy i ostatni element listy"
   ]
  },
  {
   "cell_type": "code",
   "execution_count": 13,
   "metadata": {},
   "outputs": [
    {
     "name": "stdout",
     "output_type": "stream",
     "text": [
      "Pierwszy element:  a\n",
      "Ostatni element:  e\n"
     ]
    }
   ],
   "source": [
    "l = ['a', 'b', 'c', 'd', 'e']\n",
    "print(\"Pierwszy element: \", l[0])\n",
    "print(\"Ostatni element: \", l[4])"
   ]
  },
  {
   "cell_type": "markdown",
   "metadata": {},
   "source": [
    "### Zadanie 2\n",
    "* zamienić miejscami pierwszy i ostatni element listy"
   ]
  },
  {
   "cell_type": "code",
   "execution_count": 25,
   "metadata": {},
   "outputs": [
    {
     "name": "stdout",
     "output_type": "stream",
     "text": [
      "['e', 'b', 'c', 'd', 'a']\n"
     ]
    }
   ],
   "source": [
    "# zamiana ze zmienną pomocniczą\n",
    "lista = ['a', 'b', 'c', 'd', 'e']\n",
    "schowek = lista[0]\n",
    "lista[0] = lista[4]\n",
    "lista[4] = schowek\n",
    "print(lista)"
   ]
  },
  {
   "cell_type": "code",
   "execution_count": 16,
   "metadata": {},
   "outputs": [
    {
     "name": "stdout",
     "output_type": "stream",
     "text": [
      "[1000, 'b', 'c', 'd', 'e']\n",
      "[1000, 'b', 'c', 'd', 'e']\n",
      "1000\n"
     ]
    }
   ],
   "source": [
    "# ['a', 'b', 'c', 'd', 'e'] -> ['e', 'b', 'c', 'd', 'a']\n",
    "print(l)\n",
    "l[0] = 1000\n",
    "print(l)\n",
    "zmienna = l[0]\n",
    "print(zmienna)"
   ]
  },
  {
   "cell_type": "code",
   "execution_count": 21,
   "metadata": {},
   "outputs": [
    {
     "name": "stdout",
     "output_type": "stream",
     "text": [
      "zmienna1  2\n",
      "zmienna2  3\n"
     ]
    }
   ],
   "source": [
    "zmienna1 = '2'\n",
    "zmienna2 = zmienna1\n",
    "zmienna2 = '3'\n",
    "print(\"zmienna1 \", zmienna1)\n",
    "print(\"zmienna2 \", zmienna2)"
   ]
  },
  {
   "cell_type": "code",
   "execution_count": 19,
   "metadata": {},
   "outputs": [
    {
     "name": "stdout",
     "output_type": "stream",
     "text": [
      "lista b:  [1, 2, 3, 4, 5]\n",
      "lista b:  [5, 2, 3, 4, 5]\n",
      "lista a:  [5, 2, 3, 4, 5]\n"
     ]
    }
   ],
   "source": [
    "a = [1, 2, 3, 4, 5]\n",
    "b = a # zmienne b i a odnoszą się do tej samej listy - to tak działa dla typów złożonych (oprócz int, float, bool, str)\n",
    "print(\"lista b: \", b)\n",
    "b[0] = a[4]\n",
    "print(\"lista b: \", b)\n",
    "print(\"lista a: \", a)"
   ]
  },
  {
   "cell_type": "code",
   "execution_count": 28,
   "metadata": {},
   "outputs": [
    {
     "name": "stdout",
     "output_type": "stream",
     "text": [
      "lista b:  [5, 2, 3, 4, 5]\n",
      "lista a:  [1, 2, 3, 4, 5]\n"
     ]
    }
   ],
   "source": [
    "a = [1, 2, 3, 4, 5]\n",
    "b = a.copy() # teraz b jest kopią (osobną listą, mozna zmieniać niezależnie)\n",
    "b[0] = a[4]\n",
    "print(\"lista b: \", b)\n",
    "print(\"lista a: \", a)"
   ]
  },
  {
   "cell_type": "markdown",
   "metadata": {},
   "source": [
    "### Enumerate\n",
    "* pozwala przejść przez elementy i indeksy listy"
   ]
  },
  {
   "cell_type": "code",
   "execution_count": 30,
   "metadata": {},
   "outputs": [
    {
     "name": "stdout",
     "output_type": "stream",
     "text": [
      "i= 0 , element= e\n",
      "i= 1 , element= b\n",
      "i= 2 , element= c\n",
      "i= 3 , element= d\n",
      "i= 4 , element= a\n"
     ]
    }
   ],
   "source": [
    "# i jest indeksem, element jest elementem\n",
    "for i, element in enumerate(lista):\n",
    "    print(\"i=\", i, \", element=\", element)"
   ]
  },
  {
   "cell_type": "markdown",
   "metadata": {},
   "source": [
    "### Długość listy\n",
    "długość listy sprawdzamy funkcją len"
   ]
  },
  {
   "cell_type": "code",
   "execution_count": 31,
   "metadata": {},
   "outputs": [
    {
     "data": {
      "text/plain": [
       "5"
      ]
     },
     "execution_count": 31,
     "metadata": {},
     "output_type": "execute_result"
    }
   ],
   "source": [
    "len(lista)"
   ]
  },
  {
   "cell_type": "markdown",
   "metadata": {},
   "source": [
    "### Zadanie 3\n",
    "* znaleźć indeks **najmniejszej** liczby <- to robimy\n",
    "* znaleźć indeks **największej** liczby\n",
    "* zamienić miejscami największą i najmniejszą liczbę"
   ]
  },
  {
   "cell_type": "code",
   "execution_count": 34,
   "metadata": {},
   "outputs": [
    {
     "name": "stdout",
     "output_type": "stream",
     "text": [
      "indeks najmniejszej  4\n",
      "najmniejsza  -1\n"
     ]
    }
   ],
   "source": [
    "lista = [100, 2, 3, 5, -1, 7, 2000]\n",
    "indeks_najmniejszej = 0\n",
    "for i, element in enumerate(lista):\n",
    "    if element < lista[indeks_najmniejszej]:\n",
    "        indeks_najmniejszej = i\n",
    "print(\"indeks najmniejszej \", indeks_najmniejszej)\n",
    "print(\"najmniejsza \", lista[indeks_najmniejszej])"
   ]
  },
  {
   "cell_type": "markdown",
   "metadata": {},
   "source": [
    "## Wycinki\n",
    "* lista[pierwszy indeks:drugi indeks]\n",
    "* pierwszy indeks jest uwzględniany, drugi nie\n",
    "* pominięcie pierwszego indeksu oznacza, że bierzemy elementy od początku\n",
    "* pominięcie drugiego indeksu oznacza, że bierzemy elementy do końca"
   ]
  },
  {
   "cell_type": "code",
   "execution_count": null,
   "metadata": {},
   "outputs": [],
   "source": []
  },
  {
   "cell_type": "markdown",
   "metadata": {},
   "source": [
    "## Dodawanie i usuwanie elementów listy\n",
    "* funkcja append dodaje element do listy\n",
    "* funkcja remove usuwa element listy (próba usunięcia elementu, którego nie ma na liście powoduje błąd)\n",
    "* in pozwala sprawdzić, czy lista zawiera dany element"
   ]
  },
  {
   "cell_type": "code",
   "execution_count": null,
   "metadata": {},
   "outputs": [],
   "source": []
  },
  {
   "cell_type": "markdown",
   "metadata": {},
   "source": [
    "### Zadanie 3\n",
    "* wczytać 6 liczb i umieścić je na liście\n",
    "* następnie wydrukować elementy od drugiego do czwartego (z drugim i czwartym włącznie) (pamiętamy, że listy są indeksowane od 0, czyli drugi element ma indeks 1)"
   ]
  },
  {
   "cell_type": "code",
   "execution_count": null,
   "metadata": {},
   "outputs": [],
   "source": []
  },
  {
   "cell_type": "markdown",
   "metadata": {},
   "source": [
    "## Indeksy list zagnieżdżonych\n",
    "* pierwszy indeks dotyczy listy wewnętrznej\n",
    "* drugi indeks dotyczy elementu listy wewnętrznej"
   ]
  },
  {
   "cell_type": "code",
   "execution_count": null,
   "metadata": {},
   "outputs": [],
   "source": []
  },
  {
   "cell_type": "markdown",
   "metadata": {},
   "source": [
    "### Zadanie 4\n",
    "* wczytać n (liczba całkowita)\n",
    "* wczytać n liczb i umieścić je na liście\n",
    "* przesunąć liczb o 1 cyklicznie w lewo"
   ]
  },
  {
   "cell_type": "code",
   "execution_count": null,
   "metadata": {},
   "outputs": [],
   "source": []
  },
  {
   "cell_type": "markdown",
   "metadata": {},
   "source": [
    "### Zadanie 5\n",
    "\n",
    "* utworzyć listę 5 list (każda o 5 elementach) wypełnionych liczbami losowymi z zakresu <0, 10>\n",
    "* na głównej przekątnej wstawić liczbę 5\n",
    "* dla każdego wiersza drukwać ile zawiera liczb parzystych\n",
    "* znaleźć sumę liczb dla każdej kolumny\n",
    "* kolumny o sumie liczb większej niż 30 wyzerować"
   ]
  },
  {
   "cell_type": "code",
   "execution_count": null,
   "metadata": {},
   "outputs": [],
   "source": []
  }
 ],
 "metadata": {
  "kernelspec": {
   "display_name": "Python 3",
   "language": "python",
   "name": "python3"
  },
  "language_info": {
   "codemirror_mode": {
    "name": "ipython",
    "version": 3
   },
   "file_extension": ".py",
   "mimetype": "text/x-python",
   "name": "python",
   "nbconvert_exporter": "python",
   "pygments_lexer": "ipython3",
   "version": "3.8.5"
  }
 },
 "nbformat": 4,
 "nbformat_minor": 2
}
