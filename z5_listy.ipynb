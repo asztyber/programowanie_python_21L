{
 "cells": [
  {
   "cell_type": "markdown",
   "metadata": {},
   "source": [
    "# Listy\n",
    "\n",
    "lista - struktura danych, zawierająca listę elementów (mogą być różnych typów)"
   ]
  },
  {
   "cell_type": "code",
   "execution_count": 1,
   "metadata": {},
   "outputs": [],
   "source": [
    "l = [1, 2, 3]"
   ]
  },
  {
   "cell_type": "markdown",
   "metadata": {},
   "source": [
    "## Indeksowanie\n",
    "Lista o rozmiarze n ma indeksy od **0 do n - 1**"
   ]
  },
  {
   "cell_type": "code",
   "execution_count": null,
   "metadata": {},
   "outputs": [],
   "source": []
  },
  {
   "cell_type": "markdown",
   "metadata": {},
   "source": [
    "### Zadanie 1\n",
    "* zdefiniować listę o 5 elementach\n",
    "* wydrukować pierwszy i ostatni element listy"
   ]
  },
  {
   "cell_type": "code",
   "execution_count": null,
   "metadata": {},
   "outputs": [],
   "source": []
  },
  {
   "cell_type": "markdown",
   "metadata": {},
   "source": [
    "### Zadanie 2\n",
    "* zamienić miejscami pierwszą i ostatnią liczbę"
   ]
  },
  {
   "cell_type": "code",
   "execution_count": null,
   "metadata": {},
   "outputs": [],
   "source": []
  },
  {
   "cell_type": "markdown",
   "metadata": {},
   "source": [
    "### Enumerate\n",
    "* pozwala przejść przez elementy i indeksy listy"
   ]
  },
  {
   "cell_type": "code",
   "execution_count": 15,
   "metadata": {},
   "outputs": [
    {
     "name": "stdout",
     "output_type": "stream",
     "text": [
      "i= 0 , element= a\n",
      "i= 1 , element= b\n",
      "i= 2 , element= c\n",
      "i= 3 , element= d\n"
     ]
    }
   ],
   "source": [
    "for i, element in enumerate(lista):\n",
    "    print(\"i=\", i, \", element=\", element)"
   ]
  },
  {
   "cell_type": "markdown",
   "metadata": {},
   "source": [
    "### Długość listy\n",
    "długość listy sprawdzamy funkcją len"
   ]
  },
  {
   "cell_type": "code",
   "execution_count": null,
   "metadata": {},
   "outputs": [],
   "source": [
    "# to samo z range zamiast enumerate"
   ]
  },
  {
   "cell_type": "markdown",
   "metadata": {},
   "source": [
    "### Zadanie 3\n",
    "* znaleźć indeks **najmniejszej** liczby\n",
    "* znaleźć indeks **największej** liczby\n",
    "* zamienić miejscami majwiększą i najmniejszą liczbę"
   ]
  },
  {
   "cell_type": "code",
   "execution_count": null,
   "metadata": {},
   "outputs": [],
   "source": []
  },
  {
   "cell_type": "markdown",
   "metadata": {},
   "source": [
    "## Wycinki\n",
    "* lista[pierwszy indeks:drugi indeks]\n",
    "* pierwszy indeks jest uwzględniany, drugi nie\n",
    "* pominięcie pierwszego indeksu oznacza, że bierzemy elementy od początku\n",
    "* pominięcie drugiego indeksu oznacza, że bierzemy elementy do końca"
   ]
  },
  {
   "cell_type": "code",
   "execution_count": null,
   "metadata": {},
   "outputs": [],
   "source": []
  },
  {
   "cell_type": "markdown",
   "metadata": {},
   "source": [
    "## Dodawanie i usuwanie elementów listy\n",
    "* funkcja append dodaje element do listy\n",
    "* funkcja remove usuwa element listy (próba usunięcia elementu, którego nie ma na liście powoduje błąd)\n",
    "* in pozwala sprawdzić, czy lista zawiera dany element"
   ]
  },
  {
   "cell_type": "code",
   "execution_count": null,
   "metadata": {},
   "outputs": [],
   "source": []
  },
  {
   "cell_type": "markdown",
   "metadata": {},
   "source": [
    "### Zadanie 3\n",
    "* wczytać 6 liczb i umieścić je na liście\n",
    "* następnie wydrukować elementy od drugiego do czwartego (z drugim i czwartym włącznie) (pamiętamy, że listy są indeksowane od 0, czyli drugi element ma indeks 1)"
   ]
  },
  {
   "cell_type": "code",
   "execution_count": null,
   "metadata": {},
   "outputs": [],
   "source": []
  },
  {
   "cell_type": "markdown",
   "metadata": {},
   "source": [
    "## Indeksy list zagnieżdżonych\n",
    "* pierwszy indeks dotyczy listy wewnętrznej\n",
    "* drugi indeks dotyczy elementu listy wewnętrznej"
   ]
  },
  {
   "cell_type": "code",
   "execution_count": null,
   "metadata": {},
   "outputs": [],
   "source": []
  },
  {
   "cell_type": "markdown",
   "metadata": {},
   "source": [
    "### Zadanie 4\n",
    "* wczytać n (liczba całkowita)\n",
    "* wczytać n liczb i umieścić je na liście\n",
    "* przesunąć liczb o 1 cyklicznie w lewo"
   ]
  },
  {
   "cell_type": "code",
   "execution_count": null,
   "metadata": {},
   "outputs": [],
   "source": []
  },
  {
   "cell_type": "markdown",
   "metadata": {},
   "source": [
    "### Zadanie 5\n",
    "\n",
    "* utworzyć listę 5 list (każda o 5 elementach) wypełnionych liczbami losowymi z zakresu <0, 10>\n",
    "* na głównej przekątnej wstawić liczbę 5\n",
    "* dla każdego wiersza drukwać ile zawiera liczb parzystych\n",
    "* znaleźć sumę liczb dla każdej kolumny\n",
    "* kolumny o sumie liczb większej niż 30 wyzerować"
   ]
  },
  {
   "cell_type": "code",
   "execution_count": null,
   "metadata": {},
   "outputs": [],
   "source": []
  }
 ],
 "metadata": {
  "kernelspec": {
   "display_name": "Python 3",
   "language": "python",
   "name": "python3"
  },
  "language_info": {
   "codemirror_mode": {
    "name": "ipython",
    "version": 3
   },
   "file_extension": ".py",
   "mimetype": "text/x-python",
   "name": "python",
   "nbconvert_exporter": "python",
   "pygments_lexer": "ipython3",
   "version": "3.8.5"
  }
 },
 "nbformat": 4,
 "nbformat_minor": 2
}
