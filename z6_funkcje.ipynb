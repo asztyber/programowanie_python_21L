{
 "cells": [
  {
   "cell_type": "markdown",
   "metadata": {},
   "source": [
    "# Funkcje\n",
    "\n",
    "Funkcja - ciąg instrukcji zapisany pod jakąś nazwą i wywoływany za pomocą tej nazwy w programie\n",
    "\n",
    "Unikamy powtarzanie kodu:\n",
    "+ programy są krótsze\n",
    "+ łatwiejsza modyfikacja\n",
    "+ trudniej o błędy\n",
    "+ można napisać coś raz i wykorzystywać wielokrotnie"
   ]
  },
  {
   "cell_type": "code",
   "execution_count": null,
   "metadata": {},
   "outputs": [],
   "source": [
    "# funkcja z print"
   ]
  },
  {
   "cell_type": "markdown",
   "metadata": {},
   "source": [
    "### Przekazywanie parametrów do funkcji"
   ]
  },
  {
   "cell_type": "code",
   "execution_count": null,
   "metadata": {},
   "outputs": [],
   "source": [
    "# wydrukować napis dwa razy - napis jest parametrem funkcji"
   ]
  },
  {
   "cell_type": "markdown",
   "metadata": {},
   "source": [
    "### Zadanie 1\n",
    "Napisać funkcję, która przyjmuje jako parametr napis i drukuje go 15 razy."
   ]
  },
  {
   "cell_type": "code",
   "execution_count": null,
   "metadata": {},
   "outputs": [],
   "source": []
  },
  {
   "cell_type": "markdown",
   "metadata": {},
   "source": [
    "### Zadanie 2\n",
    "Napisać funkcję, która przyjmuje jako parametry **napis** i **liczbę** i drukuje napis liczbę razy."
   ]
  },
  {
   "cell_type": "code",
   "execution_count": null,
   "metadata": {},
   "outputs": [],
   "source": []
  },
  {
   "cell_type": "markdown",
   "metadata": {},
   "source": [
    "### Zwracanie wartości\n",
    "* wartość do zwrócenia podajemy po słowie kluczowym return\n",
    "* return kończy funkcję (nic, co jest później już się nie wykona)"
   ]
  },
  {
   "cell_type": "code",
   "execution_count": 11,
   "metadata": {},
   "outputs": [],
   "source": [
    "# funkcja sumująca dwie liczby"
   ]
  },
  {
   "cell_type": "markdown",
   "metadata": {},
   "source": [
    "return **kończy** funkcję"
   ]
  },
  {
   "cell_type": "code",
   "execution_count": 13,
   "metadata": {},
   "outputs": [],
   "source": [
    "# funkcja z czymś po return"
   ]
  },
  {
   "cell_type": "code",
   "execution_count": null,
   "metadata": {},
   "outputs": [],
   "source": []
  },
  {
   "cell_type": "markdown",
   "metadata": {},
   "source": [
    "### Zadanie 3\n",
    "Napisać funkcję, która:\n",
    "* dla liczby 1 zwróci napis \"jeden!\"\n",
    "* dla liczby 2 zwróci napis \"dwa!\"\n",
    "* dla liczby 3 zwróci napis \"trzy!\"\n",
    "* dla innych liczb zwróci napis \"nie znam takiej liczby\""
   ]
  },
  {
   "cell_type": "code",
   "execution_count": null,
   "metadata": {},
   "outputs": [],
   "source": []
  },
  {
   "cell_type": "markdown",
   "metadata": {},
   "source": [
    "### Zakres zmiennych\n",
    "* zmienne zadeklarowane wewnątrz funkcji są dostępne tylko w funkcji (na zewnątrz funkcji już nie)"
   ]
  },
  {
   "cell_type": "code",
   "execution_count": null,
   "metadata": {},
   "outputs": [],
   "source": [
    "# funkcja ze zmienną lokalną"
   ]
  },
  {
   "cell_type": "markdown",
   "metadata": {},
   "source": [
    "Funkcja może zwracać kilka wartości"
   ]
  },
  {
   "cell_type": "code",
   "execution_count": 25,
   "metadata": {},
   "outputs": [],
   "source": [
    "# funkcja zwracająca wynik mnożenia i dodawania"
   ]
  },
  {
   "cell_type": "markdown",
   "metadata": {},
   "source": [
    "Uwaga na modyfikację parametrów"
   ]
  },
  {
   "cell_type": "code",
   "execution_count": null,
   "metadata": {},
   "outputs": [],
   "source": [
    "def zmieniam_liste(lista):\n",
    "    lista.append('koniec')"
   ]
  },
  {
   "cell_type": "code",
   "execution_count": null,
   "metadata": {},
   "outputs": [],
   "source": [
    "l = [1, 2, 3]"
   ]
  },
  {
   "cell_type": "code",
   "execution_count": null,
   "metadata": {},
   "outputs": [],
   "source": [
    "l"
   ]
  },
  {
   "cell_type": "code",
   "execution_count": null,
   "metadata": {},
   "outputs": [],
   "source": [
    "zmieniam_liste(l)"
   ]
  },
  {
   "cell_type": "code",
   "execution_count": null,
   "metadata": {},
   "outputs": [],
   "source": [
    "l"
   ]
  },
  {
   "cell_type": "markdown",
   "metadata": {},
   "source": [
    "### Zadanie 4\n",
    "\n",
    "Napisać funkcję, która liczy pole koła o danym promieniu"
   ]
  },
  {
   "cell_type": "code",
   "execution_count": null,
   "metadata": {},
   "outputs": [],
   "source": []
  },
  {
   "cell_type": "markdown",
   "metadata": {},
   "source": [
    "### Zadanie 5\n",
    "\n",
    "napisać funkcję, która dany **znak** drukuje **5** razy (bez enterów) \n",
    "\n",
    "drukuj('a') daje aaaaa"
   ]
  },
  {
   "cell_type": "code",
   "execution_count": null,
   "metadata": {},
   "outputs": [],
   "source": []
  },
  {
   "cell_type": "markdown",
   "metadata": {},
   "source": [
    "### Zadanie 6\n",
    "\n",
    "napisać funkcję, która dany **znak** drukuje **liczbę** razy (bez enterów) \n",
    "\n",
    "drukuj('a', 4) daje:\n",
    "aaaa"
   ]
  },
  {
   "cell_type": "code",
   "execution_count": null,
   "metadata": {},
   "outputs": [],
   "source": []
  },
  {
   "cell_type": "markdown",
   "metadata": {},
   "source": [
    "### Zadanie 7\n",
    "\n",
    "napisać funkcję, która dany **znak** drukuje **liczbę** razy w **4** rzędach \n",
    "\n",
    "drukuj('a', 3) daje:\n",
    "\n",
    "aaa  \n",
    "aaa  \n",
    "aaa  \n",
    "aaa  "
   ]
  },
  {
   "cell_type": "code",
   "execution_count": null,
   "metadata": {},
   "outputs": [],
   "source": []
  },
  {
   "cell_type": "markdown",
   "metadata": {},
   "source": [
    "### Zadanie 8\n",
    "\n",
    "napisać funkcję, która dany **znak** drukuje **liczbę** razy w **iluś** rzędach \n",
    "\n",
    "drukuj('a', 3, 2) daje:\n",
    "\n",
    "aaa  \n",
    "aaa"
   ]
  },
  {
   "cell_type": "code",
   "execution_count": null,
   "metadata": {},
   "outputs": [],
   "source": []
  },
  {
   "cell_type": "markdown",
   "metadata": {},
   "source": [
    "### Zadanie 9\n",
    "\n",
    "Napisać funkcję, która jako parametry przyjmuje znak i wysokość i  drukuje trójkąt\n",
    "\n",
    "a\n",
    "\n",
    "aa\n",
    "\n",
    "aaa\n",
    "\n",
    "aaaa\n",
    "\n",
    "Bonus: trójkąt symetryczny\n",
    "\n",
    "Bonus ++: choinka"
   ]
  },
  {
   "cell_type": "code",
   "execution_count": null,
   "metadata": {},
   "outputs": [],
   "source": []
  }
 ],
 "metadata": {
  "kernelspec": {
   "display_name": "Python 3",
   "language": "python",
   "name": "python3"
  },
  "language_info": {
   "codemirror_mode": {
    "name": "ipython",
    "version": 3
   },
   "file_extension": ".py",
   "mimetype": "text/x-python",
   "name": "python",
   "nbconvert_exporter": "python",
   "pygments_lexer": "ipython3",
   "version": "3.8.5"
  }
 },
 "nbformat": 4,
 "nbformat_minor": 2
}
